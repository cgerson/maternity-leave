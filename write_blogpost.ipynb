{
 "cells": [
  {
   "cell_type": "code",
   "execution_count": 1,
   "metadata": {
    "collapsed": false
   },
   "outputs": [
    {
     "data": {
      "text/plain": [
       "'\\nThis script automatically rewrites blogpost about maternity leave using updated metrics:\\n- number of companies in dataset\\n- number of industries\\n- average paid/unpaid leave in weeks\\n'"
      ]
     },
     "execution_count": 1,
     "metadata": {},
     "output_type": "execute_result"
    }
   ],
   "source": [
    "'''\n",
    "This script automatically rewrites blogpost about maternity leave using updated metrics:\n",
    "- number of companies in dataset\n",
    "- number of industries\n",
    "- average paid/unpaid leave in weeks\n",
    "'''"
   ]
  },
  {
   "cell_type": "code",
   "execution_count": 2,
   "metadata": {
    "collapsed": false
   },
   "outputs": [],
   "source": [
    "import pickle\n",
    "import datetime"
   ]
  },
  {
   "cell_type": "code",
   "execution_count": 3,
   "metadata": {
    "collapsed": true
   },
   "outputs": [],
   "source": [
    "#import data on number of companies, industries, avg paid/unpaid leave\n",
    "\n",
    "with open('./data/key_metrics.pkl','r') as pf:\n",
    "    metrics = pickle.load(pf)\n",
    "\n",
    "#declare variables to be updated in post\n",
    "\n",
    "num_co = metrics['num_co']\n",
    "num_ind = metrics['num_ind']\n",
    "avg_paid = metrics['avg_paid']\n",
    "avg_unpaid = metrics['avg_unpaid']\n",
    "\n",
    "date = datetime.datetime.today().strftime(\"%B %d, %Y\")"
   ]
  },
  {
   "cell_type": "code",
   "execution_count": 4,
   "metadata": {
    "collapsed": false
   },
   "outputs": [],
   "source": [
    "#post content\n",
    "\n",
    "post = \"\"\"---\n",
    "layout: post\n",
    "title: Maternity Leave by Industry\n",
    "---\n",
    "\n",
    "How many weeks of maternity leave do US industries offer their employees?\n",
    "\n",
    "The website <a href = \"https://fairygodboss.com/maternity-leave-resource-center\" target=\"_blank\">Fairygodboss</a> hosts a crowdsourced collection of maternity leave information. Each observation may include the name of the company, the industry, and the amount of paid and unpaid leave (in weeks) that the company offers.\n",
    "\n",
    "This is a great example of important data that is not made public by companies or, if public, is fragmented. With crowdsourcing, individuals from disparate parts of the economy can come together and create a powerful and telling database. Yeehaw!\n",
    "\n",
    "The code used to scrape and clean the data lives in this <a href = \"https://github.com/cgerson/maternity-leave\" target=\"_blank\">GitHub repo</a>. The tools used were <a href=\"http://www.crummy.com/software/BeautifulSoup/\">BeautifulSoup</a> (to scrape), <a href=\"http://pandas.pydata.org/\">Pandas</a> (to manipulate the data) and some experiments with plotly (plotting).\n",
    "\n",
    "Currently the dataset includes <b>{num_co} companies</b> from <b>{num_ind} industries</b> (lastest update: {date}).\n",
    "\n",
    "Average <b>paid leave</b> in weeks over all companies submitted is <b>{avg_paid:.1f} weeks</b>.\n",
    "\n",
    "Average <b>unpaid leave</b> is <b>{avg_unpaid:.1f} weeks</b>.\n",
    "\n",
    "Two outliers in this sample, <b>Bill and Melinda Gates Foundation</b> (Nonprofit) and <b>Netflix</b> (Technology), offer 52 weeks of paid maternity leave. \n",
    "\n",
    "Plotting the average leave offered by industry:<br>\n",
    "(Note that companies that offer 0 weeks for either paid or unpaid are noted below. Otherwise only information currently available is displayed.)\n",
    "<br><br>\n",
    "<iframe width=\"750\" height=\"900\" frameborder=\"0\" scrolling=\"no\" src=\"https://plot.ly/~cgerson/60.embed\"></iframe>\n",
    "\"\"\".format(num_co = num_co, num_ind = num_ind, avg_paid = avg_paid, avg_unpaid = avg_unpaid, date = date)"
   ]
  },
  {
   "cell_type": "code",
   "execution_count": 5,
   "metadata": {
    "collapsed": false
   },
   "outputs": [
    {
     "data": {
      "text/plain": [
       "'---\\nlayout: post\\ntitle: Maternity Leave by Industry\\n---\\n\\nHow many weeks of maternity leave do US industries offer their employees?\\n\\nThe website <a href = \"https://fairygodboss.com/maternity-leave-resource-center\" target=\"_blank\">Fairygodboss</a> hosts a crowdsourced collection of maternity leave information. Each observation may include the name of the company, the industry, and the amount of paid and unpaid leave (in weeks) that the company offers.\\n\\nThis is a great example of important data that is not made public by companies or, if public, is fragmented. With crowdsourcing, individuals from disparate parts of the economy can come together and create a powerful and telling database. Yeehaw!\\n\\nThe code used to scrape and clean the data lives in this <a href = \"https://github.com/cgerson/maternity-leave\" target=\"_blank\">GitHub repo</a>. The tools used were <a href=\"http://www.crummy.com/software/BeautifulSoup/\">BeautifulSoup</a> (to scrape), <a href=\"http://pandas.pydata.org/\">Pandas</a> (to manipulate the data) and some experiments with plotly (plotting).\\n\\nCurrently the dataset includes <b>891 companies</b> from <b>42 industries</b> (lastest update: December 01, 2015).\\n\\nAverage <b>paid leave</b> in weeks over all companies submitted is <b>8.0 weeks</b>.\\n\\nAverage <b>unpaid leave</b> is <b>8.7 weeks</b>.\\n\\nTwo outliers in this sample, <b>Bill and Melinda Gates Foundation</b> (Nonprofit) and <b>Netflix</b> (Technology), offer 52 weeks of paid maternity leave. \\n\\nPlotting the average leave offered by industry:<br>\\n(Note that companies that offer 0 weeks for either paid or unpaid are noted below. Otherwise only information currently available is displayed.)\\n<br><br>\\n<iframe width=\"750\" height=\"900\" frameborder=\"0\" scrolling=\"no\" src=\"https://plot.ly/~cgerson/60.embed\"></iframe>\\n'"
      ]
     },
     "execution_count": 5,
     "metadata": {},
     "output_type": "execute_result"
    }
   ],
   "source": [
    "post"
   ]
  },
  {
   "cell_type": "code",
   "execution_count": 6,
   "metadata": {
    "collapsed": true
   },
   "outputs": [],
   "source": [
    "#write to markdown file\n",
    "with open('../../../cgerson.github.io/_posts/2015-11-07-Maternity-leave.md','w') as f:\n",
    "    f.write(post)"
   ]
  }
 ],
 "metadata": {
  "kernelspec": {
   "display_name": "Python 2",
   "language": "python",
   "name": "python2"
  },
  "language_info": {
   "codemirror_mode": {
    "name": "ipython",
    "version": 2
   },
   "file_extension": ".py",
   "mimetype": "text/x-python",
   "name": "python",
   "nbconvert_exporter": "python",
   "pygments_lexer": "ipython2",
   "version": "2.7.10"
  }
 },
 "nbformat": 4,
 "nbformat_minor": 0
}
