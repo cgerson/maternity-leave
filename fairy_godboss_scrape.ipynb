{
 "cells": [
  {
   "cell_type": "code",
   "execution_count": 18,
   "metadata": {
    "collapsed": true
   },
   "outputs": [],
   "source": [
    "import requests\n",
    "from bs4 import BeautifulSoup\n",
    "import pandas as pd\n",
    "\n",
    "import seaborn as sns\n",
    "import matplotlib.pyplot as plt\n",
    "%matplotlib inline"
   ]
  },
  {
   "cell_type": "code",
   "execution_count": 19,
   "metadata": {
    "collapsed": true
   },
   "outputs": [],
   "source": [
    "# generate BeautifulSoup object \n",
    "url = \"https://fairygodboss.com/maternity-leave-resource-center\"\n",
    "response = requests.post(url)\n",
    "page = response.text\n",
    "soup = BeautifulSoup(page,\"html.parser\")"
   ]
  },
  {
   "cell_type": "code",
   "execution_count": 20,
   "metadata": {
    "collapsed": false
   },
   "outputs": [
    {
     "name": "stdout",
     "output_type": "stream",
     "text": [
      "Number of companies scraped: 712\n"
     ]
    }
   ],
   "source": [
    "# scrape company information\n",
    "collect_cos = []\n",
    "for line in soup.findAll('a',attrs = {'class':'comp_page'}):\n",
    "    \n",
    "    try:\n",
    "        #filter out line breaks and remove extra white space\n",
    "        co = [i.text.strip() for i in line.children if str(i) not in ['\\n']] \n",
    "        \n",
    "        #append company to list\n",
    "        collect_cos.append(co)\n",
    "        \n",
    "    except:\n",
    "        \"something's wrong\"\n",
    "        continue\n",
    "        \n",
    "print \"Number of companies scraped: {0}\".format(len(collect_cos))"
   ]
  },
  {
   "cell_type": "code",
   "execution_count": 21,
   "metadata": {
    "collapsed": false
   },
   "outputs": [
    {
     "data": {
      "text/html": [
       "<div>\n",
       "<table border=\"1\" class=\"dataframe\">\n",
       "  <thead>\n",
       "    <tr style=\"text-align: right;\">\n",
       "      <th></th>\n",
       "      <th>company</th>\n",
       "      <th>industry</th>\n",
       "      <th>paid</th>\n",
       "      <th>unpaid</th>\n",
       "    </tr>\n",
       "  </thead>\n",
       "  <tbody>\n",
       "    <tr>\n",
       "      <th>0</th>\n",
       "      <td>Bill and Melinda Gates Foundation</td>\n",
       "      <td>Nonprofit</td>\n",
       "      <td>52 weeks</td>\n",
       "      <td>N/A</td>\n",
       "    </tr>\n",
       "    <tr>\n",
       "      <th>1</th>\n",
       "      <td>Netflix</td>\n",
       "      <td>Technology: Consumer Internet</td>\n",
       "      <td>52 weeks</td>\n",
       "      <td>2 weeks</td>\n",
       "    </tr>\n",
       "    <tr>\n",
       "      <th>2</th>\n",
       "      <td>Automattic, Inc.</td>\n",
       "      <td>N/A</td>\n",
       "      <td>32 weeks</td>\n",
       "      <td>0 weeks</td>\n",
       "    </tr>\n",
       "    <tr>\n",
       "      <th>3</th>\n",
       "      <td>Adobe Systems</td>\n",
       "      <td>Technology: Software</td>\n",
       "      <td>26 weeks</td>\n",
       "      <td>6 weeks</td>\n",
       "    </tr>\n",
       "    <tr>\n",
       "      <th>4</th>\n",
       "      <td>FireEye Inc.</td>\n",
       "      <td>Technology: Security</td>\n",
       "      <td>22 weeks</td>\n",
       "      <td>N/A</td>\n",
       "    </tr>\n",
       "  </tbody>\n",
       "</table>\n",
       "</div>"
      ],
      "text/plain": [
       "                             company                       industry      paid  \\\n",
       "0  Bill and Melinda Gates Foundation                      Nonprofit  52 weeks   \n",
       "1                            Netflix  Technology: Consumer Internet  52 weeks   \n",
       "2                   Automattic, Inc.                            N/A  32 weeks   \n",
       "3                      Adobe Systems           Technology: Software  26 weeks   \n",
       "4                       FireEye Inc.           Technology: Security  22 weeks   \n",
       "\n",
       "    unpaid  \n",
       "0      N/A  \n",
       "1  2 weeks  \n",
       "2  0 weeks  \n",
       "3  6 weeks  \n",
       "4      N/A  "
      ]
     },
     "execution_count": 21,
     "metadata": {},
     "output_type": "execute_result"
    }
   ],
   "source": [
    "# create pandas dataframe object\n",
    "df = pd.DataFrame(collect_cos, columns = ['company','industry','paid','unpaid'])\n",
    "\n",
    "df.head()"
   ]
  },
  {
   "cell_type": "code",
   "execution_count": 22,
   "metadata": {
    "collapsed": false
   },
   "outputs": [
    {
     "name": "stdout",
     "output_type": "stream",
     "text": [
      "Industries: 106\n"
     ]
    }
   ],
   "source": [
    "# Question 1: how many different industry types do we have?\n",
    "\n",
    "print \"Industries: {0}\".format(len(df.industry.unique()))"
   ]
  },
  {
   "cell_type": "code",
   "execution_count": 23,
   "metadata": {
    "collapsed": false
   },
   "outputs": [],
   "source": [
    "# Question 2: are paid/unpaid time measured in units besides weeks?\n",
    "\n",
    "for i,row in df.iterrows():\n",
    "    if row['paid']!=\"N/A\":\n",
    "        if \"weeks\" not in row['paid']:\n",
    "            print \"Measured in units that are not weeks!\"\n",
    "    if row['unpaid']!=\"N/A\":\n",
    "        if \"weeks\" not in row['unpaid']:\n",
    "            print \"Measured in units that are not weeks!\""
   ]
  },
  {
   "cell_type": "code",
   "execution_count": 24,
   "metadata": {
    "collapsed": true
   },
   "outputs": [],
   "source": [
    "# Problem 1: convert paid and unpaid to numeric values\n",
    "\n",
    "def extract_num(val):\n",
    "    if val == \"N/A\":\n",
    "        return None\n",
    "    else:\n",
    "        return int(val[:-6])\n",
    "\n",
    "df['paid_leave'] = df['paid'].map(lambda x: extract_num(x))\n",
    "df['unpaid_leave'] = df['unpaid'].map(lambda x: extract_num(x))"
   ]
  },
  {
   "cell_type": "code",
   "execution_count": 25,
   "metadata": {
    "collapsed": false
   },
   "outputs": [],
   "source": [
    "# Problem 2: reduce number of industries by merging by base industry \n",
    "# eg. Technology: Software -> Technology\n",
    "\n",
    "def extract_base_industry(val):\n",
    "    if val == \"N/A\":\n",
    "        return None\n",
    "    else:\n",
    "        return val.split(':')[0]\n",
    "    \n",
    "df['industry_parsed'] = df['industry'].map(lambda x: extract_base_industry(x))"
   ]
  },
  {
   "cell_type": "code",
   "execution_count": 26,
   "metadata": {
    "collapsed": false
   },
   "outputs": [
    {
     "name": "stdout",
     "output_type": "stream",
     "text": [
      "Industries (parsed): 39\n"
     ]
    }
   ],
   "source": [
    "# Question 1 (revisited): how many different industry types do we have?\n",
    "# does not include null values\n",
    "\n",
    "print \"Industries (parsed): {0}\".format(len(df.industry_parsed.unique()))"
   ]
  },
  {
   "cell_type": "code",
   "execution_count": 27,
   "metadata": {
    "collapsed": false
   },
   "outputs": [
    {
     "data": {
      "text/plain": [
       "NaN                             94\n",
       "Technology                      87\n",
       "Legal services                  62\n",
       "Finance                         55\n",
       "Retail                          46\n",
       "Natural Resources               32\n",
       "FMCG                            31\n",
       "Educational Services            30\n",
       "Insurance                       28\n",
       "Healthcare                      25\n",
       "Media                           25\n",
       "Consulting services             19\n",
       "Nonprofit                       17\n",
       "Pharmaceutical                  17\n",
       "Industrial                      15\n",
       "Transportation                  15\n",
       "Information Services            13\n",
       "Hospitality                     12\n",
       "Telecommunications              11\n",
       "Business Services               11\n",
       "Advertising                     10\n",
       "Government                       8\n",
       "Auto manufacturers               6\n",
       "Aerospace                        6\n",
       "Accounting services              5\n",
       "Conglomerate                     4\n",
       "Real Estate Company              4\n",
       "Pharmacies and Drug Stores       4\n",
       "Publishing                       4\n",
       "Services                         3\n",
       "Electronics Manufacturing        3\n",
       "Auto dealers                     2\n",
       "Diversified industrials          2\n",
       "Auto parts                       1\n",
       "Electronics Wholesaler           1\n",
       "Packaging                        1\n",
       "Auto parts manufacturing         1\n",
       "Real Estate Investment Trust     1\n",
       "Maritime                         1\n",
       "dtype: int64"
      ]
     },
     "execution_count": 27,
     "metadata": {},
     "output_type": "execute_result"
    }
   ],
   "source": [
    "# Industry categories\n",
    "\n",
    "df.industry_parsed.value_counts(dropna=False)"
   ]
  },
  {
   "cell_type": "code",
   "execution_count": 28,
   "metadata": {
    "collapsed": false
   },
   "outputs": [
    {
     "data": {
      "text/html": [
       "<div>\n",
       "<table border=\"1\" class=\"dataframe\">\n",
       "  <thead>\n",
       "    <tr style=\"text-align: right;\">\n",
       "      <th></th>\n",
       "      <th>company</th>\n",
       "      <th>industry</th>\n",
       "      <th>paid</th>\n",
       "      <th>unpaid</th>\n",
       "      <th>paid_leave</th>\n",
       "      <th>unpaid_leave</th>\n",
       "      <th>industry_parsed</th>\n",
       "    </tr>\n",
       "  </thead>\n",
       "  <tbody>\n",
       "    <tr>\n",
       "      <th>0</th>\n",
       "      <td>Bill and Melinda Gates Foundation</td>\n",
       "      <td>Nonprofit</td>\n",
       "      <td>52 weeks</td>\n",
       "      <td>N/A</td>\n",
       "      <td>52</td>\n",
       "      <td>NaN</td>\n",
       "      <td>Nonprofit</td>\n",
       "    </tr>\n",
       "    <tr>\n",
       "      <th>1</th>\n",
       "      <td>Netflix</td>\n",
       "      <td>Technology: Consumer Internet</td>\n",
       "      <td>52 weeks</td>\n",
       "      <td>2 weeks</td>\n",
       "      <td>52</td>\n",
       "      <td>2</td>\n",
       "      <td>Technology</td>\n",
       "    </tr>\n",
       "    <tr>\n",
       "      <th>2</th>\n",
       "      <td>Automattic, Inc.</td>\n",
       "      <td>N/A</td>\n",
       "      <td>32 weeks</td>\n",
       "      <td>0 weeks</td>\n",
       "      <td>32</td>\n",
       "      <td>0</td>\n",
       "      <td>None</td>\n",
       "    </tr>\n",
       "    <tr>\n",
       "      <th>3</th>\n",
       "      <td>Adobe Systems</td>\n",
       "      <td>Technology: Software</td>\n",
       "      <td>26 weeks</td>\n",
       "      <td>6 weeks</td>\n",
       "      <td>26</td>\n",
       "      <td>6</td>\n",
       "      <td>Technology</td>\n",
       "    </tr>\n",
       "    <tr>\n",
       "      <th>4</th>\n",
       "      <td>FireEye Inc.</td>\n",
       "      <td>Technology: Security</td>\n",
       "      <td>22 weeks</td>\n",
       "      <td>N/A</td>\n",
       "      <td>22</td>\n",
       "      <td>NaN</td>\n",
       "      <td>Technology</td>\n",
       "    </tr>\n",
       "  </tbody>\n",
       "</table>\n",
       "</div>"
      ],
      "text/plain": [
       "                             company                       industry      paid  \\\n",
       "0  Bill and Melinda Gates Foundation                      Nonprofit  52 weeks   \n",
       "1                            Netflix  Technology: Consumer Internet  52 weeks   \n",
       "2                   Automattic, Inc.                            N/A  32 weeks   \n",
       "3                      Adobe Systems           Technology: Software  26 weeks   \n",
       "4                       FireEye Inc.           Technology: Security  22 weeks   \n",
       "\n",
       "    unpaid  paid_leave  unpaid_leave industry_parsed  \n",
       "0      N/A          52           NaN       Nonprofit  \n",
       "1  2 weeks          52             2      Technology  \n",
       "2  0 weeks          32             0            None  \n",
       "3  6 weeks          26             6      Technology  \n",
       "4      N/A          22           NaN      Technology  "
      ]
     },
     "execution_count": 28,
     "metadata": {},
     "output_type": "execute_result"
    }
   ],
   "source": [
    "df.head()"
   ]
  },
  {
   "cell_type": "code",
   "execution_count": 29,
   "metadata": {
    "collapsed": false
   },
   "outputs": [
    {
     "name": "stdout",
     "output_type": "stream",
     "text": [
      "712\n",
      "273\n"
     ]
    }
   ],
   "source": [
    "# Problem 3: dropping ALL null values decreases observations from 710 to 272!\n",
    "\n",
    "print len(df)\n",
    "print len(df.dropna())"
   ]
  },
  {
   "cell_type": "code",
   "execution_count": 30,
   "metadata": {
    "collapsed": false
   },
   "outputs": [],
   "source": [
    "gb = df.groupby('industry_parsed')"
   ]
  },
  {
   "cell_type": "code",
   "execution_count": 31,
   "metadata": {
    "collapsed": false
   },
   "outputs": [],
   "source": [
    "gb['paid_leave','unpaid_leave'].mean().to_csv(\"industry_means.csv\")"
   ]
  },
  {
   "cell_type": "code",
   "execution_count": 32,
   "metadata": {
    "collapsed": false
   },
   "outputs": [
    {
     "data": {
      "text/html": [
       "<div>\n",
       "<table border=\"1\" class=\"dataframe\">\n",
       "  <thead>\n",
       "    <tr style=\"text-align: right;\">\n",
       "      <th></th>\n",
       "      <th>paid_leave</th>\n",
       "      <th>unpaid_leave</th>\n",
       "    </tr>\n",
       "    <tr>\n",
       "      <th>industry_parsed</th>\n",
       "      <th></th>\n",
       "      <th></th>\n",
       "    </tr>\n",
       "  </thead>\n",
       "  <tbody>\n",
       "    <tr>\n",
       "      <th>Accounting services</th>\n",
       "      <td>10.000000</td>\n",
       "      <td>8.500000</td>\n",
       "    </tr>\n",
       "    <tr>\n",
       "      <th>Advertising</th>\n",
       "      <td>6.800000</td>\n",
       "      <td>5.750000</td>\n",
       "    </tr>\n",
       "    <tr>\n",
       "      <th>Aerospace</th>\n",
       "      <td>6.000000</td>\n",
       "      <td>9.000000</td>\n",
       "    </tr>\n",
       "    <tr>\n",
       "      <th>Auto dealers</th>\n",
       "      <td>8.000000</td>\n",
       "      <td>3.500000</td>\n",
       "    </tr>\n",
       "    <tr>\n",
       "      <th>Auto manufacturers</th>\n",
       "      <td>6.750000</td>\n",
       "      <td>16.000000</td>\n",
       "    </tr>\n",
       "    <tr>\n",
       "      <th>Auto parts</th>\n",
       "      <td>NaN</td>\n",
       "      <td>12.000000</td>\n",
       "    </tr>\n",
       "    <tr>\n",
       "      <th>Auto parts manufacturing</th>\n",
       "      <td>NaN</td>\n",
       "      <td>12.000000</td>\n",
       "    </tr>\n",
       "    <tr>\n",
       "      <th>Business Services</th>\n",
       "      <td>5.375000</td>\n",
       "      <td>10.111111</td>\n",
       "    </tr>\n",
       "    <tr>\n",
       "      <th>Conglomerate</th>\n",
       "      <td>7.750000</td>\n",
       "      <td>2.666667</td>\n",
       "    </tr>\n",
       "    <tr>\n",
       "      <th>Consulting services</th>\n",
       "      <td>10.421053</td>\n",
       "      <td>10.454545</td>\n",
       "    </tr>\n",
       "    <tr>\n",
       "      <th>Diversified industrials</th>\n",
       "      <td>6.000000</td>\n",
       "      <td>12.000000</td>\n",
       "    </tr>\n",
       "    <tr>\n",
       "      <th>Educational Services</th>\n",
       "      <td>4.240000</td>\n",
       "      <td>10.782609</td>\n",
       "    </tr>\n",
       "    <tr>\n",
       "      <th>Electronics Manufacturing</th>\n",
       "      <td>0.000000</td>\n",
       "      <td>25.333333</td>\n",
       "    </tr>\n",
       "    <tr>\n",
       "      <th>Electronics Wholesaler</th>\n",
       "      <td>6.000000</td>\n",
       "      <td>NaN</td>\n",
       "    </tr>\n",
       "    <tr>\n",
       "      <th>FMCG</th>\n",
       "      <td>8.333333</td>\n",
       "      <td>9.500000</td>\n",
       "    </tr>\n",
       "    <tr>\n",
       "      <th>Finance</th>\n",
       "      <td>9.803922</td>\n",
       "      <td>9.681818</td>\n",
       "    </tr>\n",
       "    <tr>\n",
       "      <th>Government</th>\n",
       "      <td>8.400000</td>\n",
       "      <td>12.000000</td>\n",
       "    </tr>\n",
       "    <tr>\n",
       "      <th>Healthcare</th>\n",
       "      <td>5.789474</td>\n",
       "      <td>9.200000</td>\n",
       "    </tr>\n",
       "    <tr>\n",
       "      <th>Hospitality</th>\n",
       "      <td>4.500000</td>\n",
       "      <td>11.000000</td>\n",
       "    </tr>\n",
       "    <tr>\n",
       "      <th>Industrial</th>\n",
       "      <td>7.692308</td>\n",
       "      <td>8.571429</td>\n",
       "    </tr>\n",
       "    <tr>\n",
       "      <th>Information Services</th>\n",
       "      <td>9.583333</td>\n",
       "      <td>11.333333</td>\n",
       "    </tr>\n",
       "    <tr>\n",
       "      <th>Insurance</th>\n",
       "      <td>6.666667</td>\n",
       "      <td>9.285714</td>\n",
       "    </tr>\n",
       "    <tr>\n",
       "      <th>Legal services</th>\n",
       "      <td>15.935484</td>\n",
       "      <td>7.250000</td>\n",
       "    </tr>\n",
       "    <tr>\n",
       "      <th>Maritime</th>\n",
       "      <td>NaN</td>\n",
       "      <td>12.000000</td>\n",
       "    </tr>\n",
       "    <tr>\n",
       "      <th>Media</th>\n",
       "      <td>8.565217</td>\n",
       "      <td>8.727273</td>\n",
       "    </tr>\n",
       "    <tr>\n",
       "      <th>Natural Resources</th>\n",
       "      <td>7.791667</td>\n",
       "      <td>11.090909</td>\n",
       "    </tr>\n",
       "    <tr>\n",
       "      <th>Nonprofit</th>\n",
       "      <td>8.750000</td>\n",
       "      <td>13.090909</td>\n",
       "    </tr>\n",
       "    <tr>\n",
       "      <th>Packaging</th>\n",
       "      <td>12.000000</td>\n",
       "      <td>0.000000</td>\n",
       "    </tr>\n",
       "    <tr>\n",
       "      <th>Pharmaceutical</th>\n",
       "      <td>7.375000</td>\n",
       "      <td>9.500000</td>\n",
       "    </tr>\n",
       "    <tr>\n",
       "      <th>Pharmacies and Drug Stores</th>\n",
       "      <td>6.000000</td>\n",
       "      <td>10.000000</td>\n",
       "    </tr>\n",
       "    <tr>\n",
       "      <th>Publishing</th>\n",
       "      <td>9.666667</td>\n",
       "      <td>5.666667</td>\n",
       "    </tr>\n",
       "    <tr>\n",
       "      <th>Real Estate Company</th>\n",
       "      <td>2.000000</td>\n",
       "      <td>10.000000</td>\n",
       "    </tr>\n",
       "    <tr>\n",
       "      <th>Real Estate Investment Trust</th>\n",
       "      <td>6.000000</td>\n",
       "      <td>6.000000</td>\n",
       "    </tr>\n",
       "    <tr>\n",
       "      <th>Retail</th>\n",
       "      <td>5.918919</td>\n",
       "      <td>8.944444</td>\n",
       "    </tr>\n",
       "    <tr>\n",
       "      <th>Services</th>\n",
       "      <td>6.000000</td>\n",
       "      <td>12.000000</td>\n",
       "    </tr>\n",
       "    <tr>\n",
       "      <th>Technology</th>\n",
       "      <td>10.361446</td>\n",
       "      <td>8.477273</td>\n",
       "    </tr>\n",
       "    <tr>\n",
       "      <th>Telecommunications</th>\n",
       "      <td>7.000000</td>\n",
       "      <td>8.000000</td>\n",
       "    </tr>\n",
       "    <tr>\n",
       "      <th>Transportation</th>\n",
       "      <td>6.000000</td>\n",
       "      <td>9.666667</td>\n",
       "    </tr>\n",
       "  </tbody>\n",
       "</table>\n",
       "</div>"
      ],
      "text/plain": [
       "                              paid_leave  unpaid_leave\n",
       "industry_parsed                                       \n",
       "Accounting services            10.000000      8.500000\n",
       "Advertising                     6.800000      5.750000\n",
       "Aerospace                       6.000000      9.000000\n",
       "Auto dealers                    8.000000      3.500000\n",
       "Auto manufacturers              6.750000     16.000000\n",
       "Auto parts                           NaN     12.000000\n",
       "Auto parts manufacturing             NaN     12.000000\n",
       "Business Services               5.375000     10.111111\n",
       "Conglomerate                    7.750000      2.666667\n",
       "Consulting services            10.421053     10.454545\n",
       "Diversified industrials         6.000000     12.000000\n",
       "Educational Services            4.240000     10.782609\n",
       "Electronics Manufacturing       0.000000     25.333333\n",
       "Electronics Wholesaler          6.000000           NaN\n",
       "FMCG                            8.333333      9.500000\n",
       "Finance                         9.803922      9.681818\n",
       "Government                      8.400000     12.000000\n",
       "Healthcare                      5.789474      9.200000\n",
       "Hospitality                     4.500000     11.000000\n",
       "Industrial                      7.692308      8.571429\n",
       "Information Services            9.583333     11.333333\n",
       "Insurance                       6.666667      9.285714\n",
       "Legal services                 15.935484      7.250000\n",
       "Maritime                             NaN     12.000000\n",
       "Media                           8.565217      8.727273\n",
       "Natural Resources               7.791667     11.090909\n",
       "Nonprofit                       8.750000     13.090909\n",
       "Packaging                      12.000000      0.000000\n",
       "Pharmaceutical                  7.375000      9.500000\n",
       "Pharmacies and Drug Stores      6.000000     10.000000\n",
       "Publishing                      9.666667      5.666667\n",
       "Real Estate Company             2.000000     10.000000\n",
       "Real Estate Investment Trust    6.000000      6.000000\n",
       "Retail                          5.918919      8.944444\n",
       "Services                        6.000000     12.000000\n",
       "Technology                     10.361446      8.477273\n",
       "Telecommunications              7.000000      8.000000\n",
       "Transportation                  6.000000      9.666667"
      ]
     },
     "execution_count": 32,
     "metadata": {},
     "output_type": "execute_result"
    }
   ],
   "source": [
    "gb['paid_leave','unpaid_leave'].mean()"
   ]
  },
  {
   "cell_type": "code",
   "execution_count": null,
   "metadata": {
    "collapsed": true
   },
   "outputs": [],
   "source": []
  }
 ],
 "metadata": {
  "kernelspec": {
   "display_name": "Python 2",
   "language": "python",
   "name": "python2"
  },
  "language_info": {
   "codemirror_mode": {
    "name": "ipython",
    "version": 2
   },
   "file_extension": ".py",
   "mimetype": "text/x-python",
   "name": "python",
   "nbconvert_exporter": "python",
   "pygments_lexer": "ipython2",
   "version": "2.7.10"
  }
 },
 "nbformat": 4,
 "nbformat_minor": 0
}
