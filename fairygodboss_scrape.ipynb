{
 "cells": [
  {
   "cell_type": "code",
   "execution_count": 19,
   "metadata": {
    "collapsed": false
   },
   "outputs": [],
   "source": [
    "import requests\n",
    "from bs4 import BeautifulSoup\n",
    "import pandas as pd\n",
    "\n",
    "import seaborn as sns\n",
    "import matplotlib.pyplot as plt\n",
    "%matplotlib inline"
   ]
  },
  {
   "cell_type": "code",
   "execution_count": 20,
   "metadata": {
    "collapsed": true
   },
   "outputs": [],
   "source": [
    "# generate BeautifulSoup object \n",
    "url = \"https://fairygodboss.com/maternity-leave-resource-center\"\n",
    "response = requests.post(url)\n",
    "page = response.text\n",
    "soup = BeautifulSoup(page,\"html.parser\")"
   ]
  },
  {
   "cell_type": "code",
   "execution_count": 21,
   "metadata": {
    "collapsed": false
   },
   "outputs": [
    {
     "name": "stdout",
     "output_type": "stream",
     "text": [
      "Number of companies scraped: 825\n"
     ]
    }
   ],
   "source": [
    "# scrape company information\n",
    "collect_cos = []\n",
    "for line in soup.findAll('a',attrs = {'class':'comp_page'}):\n",
    "    \n",
    "    try:\n",
    "        #filter out line breaks and remove extra white space\n",
    "        co = [i.text.strip() for i in line.children if str(i) not in ['\\n']] \n",
    "        \n",
    "        #append company to list\n",
    "        collect_cos.append(co)\n",
    "        \n",
    "    except:\n",
    "        print \"something's wrong\"\n",
    "        continue\n",
    "        \n",
    "print \"Number of companies scraped: {0}\".format(len(collect_cos))"
   ]
  },
  {
   "cell_type": "code",
   "execution_count": 22,
   "metadata": {
    "collapsed": false
   },
   "outputs": [
    {
     "data": {
      "text/html": [
       "<div>\n",
       "<table border=\"1\" class=\"dataframe\">\n",
       "  <thead>\n",
       "    <tr style=\"text-align: right;\">\n",
       "      <th></th>\n",
       "      <th>company</th>\n",
       "      <th>industry</th>\n",
       "      <th>paid</th>\n",
       "      <th>unpaid</th>\n",
       "    </tr>\n",
       "  </thead>\n",
       "  <tbody>\n",
       "    <tr>\n",
       "      <th>0</th>\n",
       "      <td>Bill and Melinda Gates Foundation</td>\n",
       "      <td>Nonprofit</td>\n",
       "      <td>52 weeks</td>\n",
       "      <td>N/A</td>\n",
       "    </tr>\n",
       "    <tr>\n",
       "      <th>1</th>\n",
       "      <td>Netflix</td>\n",
       "      <td>Technology: Consumer Internet</td>\n",
       "      <td>52 weeks</td>\n",
       "      <td>2 weeks</td>\n",
       "    </tr>\n",
       "    <tr>\n",
       "      <th>2</th>\n",
       "      <td>Automattic, Inc.</td>\n",
       "      <td>Technology: Consumer Internet</td>\n",
       "      <td>32 weeks</td>\n",
       "      <td>0 weeks</td>\n",
       "    </tr>\n",
       "    <tr>\n",
       "      <th>3</th>\n",
       "      <td>Adobe Systems</td>\n",
       "      <td>Technology: Software</td>\n",
       "      <td>26 weeks</td>\n",
       "      <td>6 weeks</td>\n",
       "    </tr>\n",
       "    <tr>\n",
       "      <th>4</th>\n",
       "      <td>Spotify</td>\n",
       "      <td>Technology: Consumer Internet</td>\n",
       "      <td>24 weeks</td>\n",
       "      <td>N/A</td>\n",
       "    </tr>\n",
       "  </tbody>\n",
       "</table>\n",
       "</div>"
      ],
      "text/plain": [
       "                             company                       industry      paid  \\\n",
       "0  Bill and Melinda Gates Foundation                      Nonprofit  52 weeks   \n",
       "1                            Netflix  Technology: Consumer Internet  52 weeks   \n",
       "2                   Automattic, Inc.  Technology: Consumer Internet  32 weeks   \n",
       "3                      Adobe Systems           Technology: Software  26 weeks   \n",
       "4                            Spotify  Technology: Consumer Internet  24 weeks   \n",
       "\n",
       "    unpaid  \n",
       "0      N/A  \n",
       "1  2 weeks  \n",
       "2  0 weeks  \n",
       "3  6 weeks  \n",
       "4      N/A  "
      ]
     },
     "execution_count": 22,
     "metadata": {},
     "output_type": "execute_result"
    }
   ],
   "source": [
    "# create pandas dataframe object\n",
    "df = pd.DataFrame(collect_cos, columns = ['company','industry','paid','unpaid'])\n",
    "\n",
    "df.head()"
   ]
  },
  {
   "cell_type": "code",
   "execution_count": 23,
   "metadata": {
    "collapsed": false
   },
   "outputs": [
    {
     "name": "stdout",
     "output_type": "stream",
     "text": [
      "Industries: 121\n"
     ]
    }
   ],
   "source": [
    "# Question 1: how many different industries are we looking at?\n",
    "\n",
    "print \"Industries: {0}\".format(len(df.industry.unique()))"
   ]
  },
  {
   "cell_type": "code",
   "execution_count": 24,
   "metadata": {
    "collapsed": false
   },
   "outputs": [],
   "source": [
    "# Question 2: are paid/unpaid time measured in units besides weeks?\n",
    "\n",
    "for i,row in df.iterrows():\n",
    "    if row['paid']!=\"N/A\":\n",
    "        if \"weeks\" not in row['paid']:\n",
    "            print \"Measured in units that are not weeks!\"\n",
    "    if row['unpaid']!=\"N/A\":\n",
    "        if \"weeks\" not in row['unpaid']:\n",
    "            print \"Measured in units that are not weeks!\""
   ]
  },
  {
   "cell_type": "code",
   "execution_count": 25,
   "metadata": {
    "collapsed": true
   },
   "outputs": [],
   "source": [
    "# Problem 1: convert paid and unpaid to numeric values\n",
    "\n",
    "def extract_num(val):\n",
    "    if val == \"N/A\":\n",
    "        return None\n",
    "    else:\n",
    "        return int(val[:-6])\n",
    "\n",
    "df['paid_leave'] = df['paid'].map(lambda x: extract_num(x))\n",
    "df['unpaid_leave'] = df['unpaid'].map(lambda x: extract_num(x))"
   ]
  },
  {
   "cell_type": "code",
   "execution_count": 26,
   "metadata": {
    "collapsed": false
   },
   "outputs": [],
   "source": [
    "# Problem 2: clean industry field\n",
    "# TODO: read in all industries as lower case\n",
    "\n",
    "def clean_industry(val):\n",
    "    if val == \"N/A\": #create 'Unspecified' value to capture all null values\n",
    "        return \"Unspecified\"\n",
    "    \n",
    "    if val == \"akqaa\": #company AKQA is coded with industry akqaa. Convert to \"Technology\"\n",
    "        return \"Technology\"\n",
    "    \n",
    "    if val == \"Auto parts manufacturing\" or val == \"Auto parts\": #combine Auto parts and Auto parts manufacturing\n",
    "        return \"Auto manufacturers\"\n",
    "    \n",
    "    if val == \"Consulting Services\":\n",
    "        return \"Consulting services\"\n",
    "    \n",
    "    else: #reduce number of industries by merging to base industry. eg. Technology: Software -> Technology\n",
    "        return val.split(':')[0]\n",
    "    \n",
    "df['industry_parsed'] = df['industry'].map(lambda x: clean_industry(x))"
   ]
  },
  {
   "cell_type": "code",
   "execution_count": 27,
   "metadata": {
    "collapsed": false
   },
   "outputs": [
    {
     "name": "stdout",
     "output_type": "stream",
     "text": [
      "Industries (parsed): 42\n"
     ]
    }
   ],
   "source": [
    "# Question 1 (revisited): how many different industry types do we have?\n",
    "# Industries inputted as \"N/A\" are now part of \"Unspecified\" category\n",
    "\n",
    "print \"Industries (parsed): {0}\".format(len(df.industry_parsed.unique()))"
   ]
  },
  {
   "cell_type": "code",
   "execution_count": 38,
   "metadata": {
    "collapsed": false
   },
   "outputs": [
    {
     "data": {
      "text/plain": [
       "Technology                      128\n",
       "Legal services                   70\n",
       "Finance                          62\n",
       "Retail                           62\n",
       "Educational Services             51\n",
       "Healthcare                       47\n",
       "Natural Resources                36\n",
       "FMCG                             33\n",
       "Insurance                        33\n",
       "Media                            28\n",
       "Nonprofit                        26\n",
       "Consulting services              23\n",
       "Pharmaceutical                   23\n",
       "Industrial                       21\n",
       "Hospitality                      20\n",
       "Business Services                18\n",
       "Advertising                      17\n",
       "Government                       17\n",
       "Transportation                   16\n",
       "Information Services             13\n",
       "Telecommunications               12\n",
       "Auto manufacturers               10\n",
       "Aerospace                         8\n",
       "Services                          7\n",
       "Real Estate Company               5\n",
       "Accounting services               5\n",
       "Publishing                        4\n",
       "Conglomerate                      4\n",
       "Pharmacies and Drug Stores        4\n",
       "Diversified industrials           4\n",
       "Public Relations                  3\n",
       "Electronics Manufacturing         3\n",
       "Auto dealers                      2\n",
       "Real Estate Investment Trust      2\n",
       "Fine Art Auctions                 1\n",
       "Packaging                         1\n",
       "Maritime                          1\n",
       "Wholesale                         1\n",
       "Electronics Wholesaler            1\n",
       "Research & Development            1\n",
       "Unspecified                       1\n",
       "Design                            1\n",
       "Name: industry_parsed, dtype: int64"
      ]
     },
     "execution_count": 38,
     "metadata": {},
     "output_type": "execute_result"
    }
   ],
   "source": [
    "# Industry categories + counts\n",
    "\n",
    "pd.DataFrame(df.industry_parsed.value_counts(dropna=False)).to_csv('./data/industry_counts_total.csv') #write to csv for chart\n",
    "\n",
    "df.industry_parsed.value_counts(dropna=False)"
   ]
  },
  {
   "cell_type": "code",
   "execution_count": 29,
   "metadata": {
    "collapsed": false
   },
   "outputs": [
    {
     "data": {
      "text/html": [
       "<div>\n",
       "<table border=\"1\" class=\"dataframe\">\n",
       "  <thead>\n",
       "    <tr style=\"text-align: right;\">\n",
       "      <th></th>\n",
       "      <th>company</th>\n",
       "      <th>industry</th>\n",
       "      <th>paid</th>\n",
       "      <th>unpaid</th>\n",
       "      <th>paid_leave</th>\n",
       "      <th>unpaid_leave</th>\n",
       "      <th>industry_parsed</th>\n",
       "    </tr>\n",
       "  </thead>\n",
       "  <tbody>\n",
       "    <tr>\n",
       "      <th>0</th>\n",
       "      <td>Bill and Melinda Gates Foundation</td>\n",
       "      <td>Nonprofit</td>\n",
       "      <td>52 weeks</td>\n",
       "      <td>N/A</td>\n",
       "      <td>52</td>\n",
       "      <td>NaN</td>\n",
       "      <td>Nonprofit</td>\n",
       "    </tr>\n",
       "    <tr>\n",
       "      <th>1</th>\n",
       "      <td>Netflix</td>\n",
       "      <td>Technology: Consumer Internet</td>\n",
       "      <td>52 weeks</td>\n",
       "      <td>2 weeks</td>\n",
       "      <td>52</td>\n",
       "      <td>2</td>\n",
       "      <td>Technology</td>\n",
       "    </tr>\n",
       "    <tr>\n",
       "      <th>2</th>\n",
       "      <td>Automattic, Inc.</td>\n",
       "      <td>Technology: Consumer Internet</td>\n",
       "      <td>32 weeks</td>\n",
       "      <td>0 weeks</td>\n",
       "      <td>32</td>\n",
       "      <td>0</td>\n",
       "      <td>Technology</td>\n",
       "    </tr>\n",
       "    <tr>\n",
       "      <th>3</th>\n",
       "      <td>Adobe Systems</td>\n",
       "      <td>Technology: Software</td>\n",
       "      <td>26 weeks</td>\n",
       "      <td>6 weeks</td>\n",
       "      <td>26</td>\n",
       "      <td>6</td>\n",
       "      <td>Technology</td>\n",
       "    </tr>\n",
       "    <tr>\n",
       "      <th>4</th>\n",
       "      <td>Spotify</td>\n",
       "      <td>Technology: Consumer Internet</td>\n",
       "      <td>24 weeks</td>\n",
       "      <td>N/A</td>\n",
       "      <td>24</td>\n",
       "      <td>NaN</td>\n",
       "      <td>Technology</td>\n",
       "    </tr>\n",
       "    <tr>\n",
       "      <th>5</th>\n",
       "      <td>FireEye Inc.</td>\n",
       "      <td>Technology: Security</td>\n",
       "      <td>22 weeks</td>\n",
       "      <td>N/A</td>\n",
       "      <td>22</td>\n",
       "      <td>NaN</td>\n",
       "      <td>Technology</td>\n",
       "    </tr>\n",
       "    <tr>\n",
       "      <th>6</th>\n",
       "      <td>Orrick, Herrington &amp; Sutcliffe LLP</td>\n",
       "      <td>Legal services</td>\n",
       "      <td>22 weeks</td>\n",
       "      <td>N/A</td>\n",
       "      <td>22</td>\n",
       "      <td>NaN</td>\n",
       "      <td>Legal services</td>\n",
       "    </tr>\n",
       "    <tr>\n",
       "      <th>7</th>\n",
       "      <td>Avaya</td>\n",
       "      <td>Technology: B2B Tech Services</td>\n",
       "      <td>22 weeks</td>\n",
       "      <td>N/A</td>\n",
       "      <td>22</td>\n",
       "      <td>NaN</td>\n",
       "      <td>Technology</td>\n",
       "    </tr>\n",
       "    <tr>\n",
       "      <th>9</th>\n",
       "      <td>Microsoft</td>\n",
       "      <td>Technology: Software</td>\n",
       "      <td>20 weeks</td>\n",
       "      <td>0 weeks</td>\n",
       "      <td>20</td>\n",
       "      <td>0</td>\n",
       "      <td>Technology</td>\n",
       "    </tr>\n",
       "    <tr>\n",
       "      <th>8</th>\n",
       "      <td>Twitter</td>\n",
       "      <td>Technology: Consumer Internet</td>\n",
       "      <td>20 weeks</td>\n",
       "      <td>N/A</td>\n",
       "      <td>20</td>\n",
       "      <td>NaN</td>\n",
       "      <td>Technology</td>\n",
       "    </tr>\n",
       "  </tbody>\n",
       "</table>\n",
       "</div>"
      ],
      "text/plain": [
       "                              company                       industry  \\\n",
       "0   Bill and Melinda Gates Foundation                      Nonprofit   \n",
       "1                             Netflix  Technology: Consumer Internet   \n",
       "2                    Automattic, Inc.  Technology: Consumer Internet   \n",
       "3                       Adobe Systems           Technology: Software   \n",
       "4                             Spotify  Technology: Consumer Internet   \n",
       "5                        FireEye Inc.           Technology: Security   \n",
       "6  Orrick, Herrington & Sutcliffe LLP                 Legal services   \n",
       "7                               Avaya  Technology: B2B Tech Services   \n",
       "9                           Microsoft           Technology: Software   \n",
       "8                             Twitter  Technology: Consumer Internet   \n",
       "\n",
       "       paid   unpaid  paid_leave  unpaid_leave industry_parsed  \n",
       "0  52 weeks      N/A          52           NaN       Nonprofit  \n",
       "1  52 weeks  2 weeks          52             2      Technology  \n",
       "2  32 weeks  0 weeks          32             0      Technology  \n",
       "3  26 weeks  6 weeks          26             6      Technology  \n",
       "4  24 weeks      N/A          24           NaN      Technology  \n",
       "5  22 weeks      N/A          22           NaN      Technology  \n",
       "6  22 weeks      N/A          22           NaN  Legal services  \n",
       "7  22 weeks      N/A          22           NaN      Technology  \n",
       "9  20 weeks  0 weeks          20             0      Technology  \n",
       "8  20 weeks      N/A          20           NaN      Technology  "
      ]
     },
     "execution_count": 29,
     "metadata": {},
     "output_type": "execute_result"
    }
   ],
   "source": [
    "df.sort_values(by = 'paid_leave', ascending=False).head(10)"
   ]
  },
  {
   "cell_type": "code",
   "execution_count": 37,
   "metadata": {
    "collapsed": false
   },
   "outputs": [
    {
     "name": "stdout",
     "output_type": "stream",
     "text": [
      "825\n",
      "413\n"
     ]
    }
   ],
   "source": [
    "# size of dataset (number of companies)\n",
    "print len(df)\n",
    "print len(df.dropna())"
   ]
  },
  {
   "cell_type": "code",
   "execution_count": 31,
   "metadata": {
    "collapsed": false
   },
   "outputs": [
    {
     "name": "stdout",
     "output_type": "stream",
     "text": [
      "Average paid leave: 8.1 weeks\n",
      "Average unpaid leave 9.0 weeks\n"
     ]
    }
   ],
   "source": [
    "print \"Average paid leave: {0:.1f} weeks\".format(df['paid_leave'].mean())\n",
    "print \"Average unpaid leave {0:.1f} weeks\".format(df['unpaid_leave'].mean())"
   ]
  },
  {
   "cell_type": "code",
   "execution_count": 40,
   "metadata": {
    "collapsed": false
   },
   "outputs": [],
   "source": [
    "#save number of companies, industries, and avg paid/unpaid leave to pickle file\n",
    "#for chart and blogpost\n",
    "\n",
    "d = {'num_co':len(df),\n",
    "     'num_ind':len(df['industry_parsed'].unique()),\n",
    "     'avg_paid':df['paid_leave'].mean(),\n",
    "    'avg_unpaid':df['unpaid_leave'].mean()}\n",
    "\n",
    "with open('./data/key_metrics.pkl','w') as pf:\n",
    "    pickle.dump(d,pf)"
   ]
  },
  {
   "cell_type": "code",
   "execution_count": 32,
   "metadata": {
    "collapsed": false
   },
   "outputs": [
    {
     "data": {
      "text/html": [
       "<div>\n",
       "<table border=\"1\" class=\"dataframe\">\n",
       "  <thead>\n",
       "    <tr style=\"text-align: right;\">\n",
       "      <th></th>\n",
       "      <th>company</th>\n",
       "      <th>industry</th>\n",
       "      <th>paid</th>\n",
       "      <th>unpaid</th>\n",
       "      <th>paid_leave</th>\n",
       "      <th>unpaid_leave</th>\n",
       "      <th>industry_parsed</th>\n",
       "    </tr>\n",
       "  </thead>\n",
       "  <tbody>\n",
       "    <tr>\n",
       "      <th>288</th>\n",
       "      <td>DreamHost</td>\n",
       "      <td>N/A</td>\n",
       "      <td>8 weeks</td>\n",
       "      <td>N/A</td>\n",
       "      <td>8</td>\n",
       "      <td>NaN</td>\n",
       "      <td>Unspecified</td>\n",
       "    </tr>\n",
       "  </tbody>\n",
       "</table>\n",
       "</div>"
      ],
      "text/plain": [
       "       company industry     paid unpaid  paid_leave  unpaid_leave  \\\n",
       "288  DreamHost      N/A  8 weeks    N/A           8           NaN   \n",
       "\n",
       "    industry_parsed  \n",
       "288     Unspecified  "
      ]
     },
     "execution_count": 32,
     "metadata": {},
     "output_type": "execute_result"
    }
   ],
   "source": [
    "#unspecified companies need to separated into corresponding industries\n",
    "df[df['industry_parsed']=='Unspecified']"
   ]
  },
  {
   "cell_type": "markdown",
   "metadata": {},
   "source": [
    "####WRITE TO CSV FILES"
   ]
  },
  {
   "cell_type": "code",
   "execution_count": 33,
   "metadata": {
    "collapsed": false
   },
   "outputs": [],
   "source": [
    "# group by industry\n",
    "\n",
    "gb = df.groupby('industry_parsed')\n",
    "\n",
    "# export average paid/unpaid leave (in weeks) to csv\n",
    "\n",
    "gb['paid_leave','unpaid_leave'].mean().to_csv(\"./data/industry_means.csv\")"
   ]
  },
  {
   "cell_type": "code",
   "execution_count": 34,
   "metadata": {
    "collapsed": false,
    "scrolled": true
   },
   "outputs": [],
   "source": [
    "# include count (number of companies inputted for each industry value)\n",
    "\n",
    "df_temp = gb['paid_leave','unpaid_leave'].agg(['mean', 'count'])\n",
    "\n",
    "# shape it!\n",
    "\n",
    "df_temp = df_temp.stack(1).reset_index()\n",
    "df_temp.columns = ['industry','measure','paid_leave','unpaid_leave']\n",
    "df_temp = df_temp.set_index('industry')\n",
    "\n",
    "df_temp.to_csv(\"./data/industry_means_counts.csv\")"
   ]
  },
  {
   "cell_type": "code",
   "execution_count": 35,
   "metadata": {
    "collapsed": false
   },
   "outputs": [],
   "source": [
    "# reshaping to wide format \n",
    "\n",
    "df_temp_index = df_temp.reset_index()\n",
    "\n",
    "# extend 'measure' column for both paid and unpaid values\n",
    "\n",
    "unpaid = df_temp_index.pivot(index='industry',columns='measure',values='unpaid_leave').reset_index()\n",
    "paid = df_temp_index.pivot(index='industry',columns='measure',values='paid_leave').reset_index()\n",
    "\n",
    "wide = paid.merge(unpaid, on='industry', how = 'outer', suffixes = [\"_paid\",\"_unpaid\"])\n",
    "wide.set_index('industry')\n",
    "wide.to_csv('./data/industries_wide.csv')"
   ]
  },
  {
   "cell_type": "code",
   "execution_count": 36,
   "metadata": {
    "collapsed": false
   },
   "outputs": [],
   "source": [
    "# reshaping it again, experiments!\n",
    "\n",
    "trying = gb['paid_leave','unpaid_leave'].agg(['mean', 'count']).stack().reset_index()\n",
    "\n",
    "trying_again = trying.pivot_table(values=['paid_leave','unpaid_leave'], index='industry_parsed', columns='level_1')\n",
    "trying_again_no_index = trying_again.reset_index()\n",
    "\n",
    "yes=pd.melt(trying_again_no_index, id_vars=['industry_parsed'],value_vars=['paid_leave','unpaid_leave'])\n",
    "yes.columns = ['industry','type_leave','measure','val']\n",
    "\n",
    "yes = yes.pivot_table(index=['industry','type_leave'],values='val', columns = 'measure')\n",
    "yes.reset_index().to_csv(\"./data/industry_melted_v2.csv\")"
   ]
  }
 ],
 "metadata": {
  "kernelspec": {
   "display_name": "Python 2",
   "language": "python",
   "name": "python2"
  },
  "language_info": {
   "codemirror_mode": {
    "name": "ipython",
    "version": 2
   },
   "file_extension": ".py",
   "mimetype": "text/x-python",
   "name": "python",
   "nbconvert_exporter": "python",
   "pygments_lexer": "ipython2",
   "version": "2.7.10"
  }
 },
 "nbformat": 4,
 "nbformat_minor": 0
}
