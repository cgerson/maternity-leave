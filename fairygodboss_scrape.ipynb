{
 "cells": [
  {
   "cell_type": "code",
   "execution_count": 1,
   "metadata": {
    "collapsed": true
   },
   "outputs": [],
   "source": [
    "import requests\n",
    "from bs4 import BeautifulSoup\n",
    "import pandas as pd\n",
    "\n",
    "import seaborn as sns\n",
    "import matplotlib.pyplot as plt\n",
    "%matplotlib inline"
   ]
  },
  {
   "cell_type": "code",
   "execution_count": 2,
   "metadata": {
    "collapsed": true
   },
   "outputs": [],
   "source": [
    "# generate BeautifulSoup object \n",
    "url = \"https://fairygodboss.com/maternity-leave-resource-center\"\n",
    "response = requests.post(url)\n",
    "page = response.text\n",
    "soup = BeautifulSoup(page,\"html.parser\")"
   ]
  },
  {
   "cell_type": "code",
   "execution_count": 3,
   "metadata": {
    "collapsed": false
   },
   "outputs": [
    {
     "name": "stdout",
     "output_type": "stream",
     "text": [
      "Number of companies scraped: 772\n"
     ]
    }
   ],
   "source": [
    "# scrape company information\n",
    "collect_cos = []\n",
    "for line in soup.findAll('a',attrs = {'class':'comp_page'}):\n",
    "    \n",
    "    try:\n",
    "        #filter out line breaks and remove extra white space\n",
    "        co = [i.text.strip() for i in line.children if str(i) not in ['\\n']] \n",
    "        \n",
    "        #append company to list\n",
    "        collect_cos.append(co)\n",
    "        \n",
    "    except:\n",
    "        \"something's wrong\"\n",
    "        continue\n",
    "        \n",
    "print \"Number of companies scraped: {0}\".format(len(collect_cos))"
   ]
  },
  {
   "cell_type": "code",
   "execution_count": 4,
   "metadata": {
    "collapsed": false
   },
   "outputs": [
    {
     "data": {
      "text/html": [
       "<div>\n",
       "<table border=\"1\" class=\"dataframe\">\n",
       "  <thead>\n",
       "    <tr style=\"text-align: right;\">\n",
       "      <th></th>\n",
       "      <th>company</th>\n",
       "      <th>industry</th>\n",
       "      <th>paid</th>\n",
       "      <th>unpaid</th>\n",
       "    </tr>\n",
       "  </thead>\n",
       "  <tbody>\n",
       "    <tr>\n",
       "      <th>0</th>\n",
       "      <td>Bill and Melinda Gates Foundation</td>\n",
       "      <td>Nonprofit</td>\n",
       "      <td>52 weeks</td>\n",
       "      <td>N/A</td>\n",
       "    </tr>\n",
       "    <tr>\n",
       "      <th>1</th>\n",
       "      <td>Netflix</td>\n",
       "      <td>Technology: Consumer Internet</td>\n",
       "      <td>52 weeks</td>\n",
       "      <td>2 weeks</td>\n",
       "    </tr>\n",
       "    <tr>\n",
       "      <th>2</th>\n",
       "      <td>Automattic, Inc.</td>\n",
       "      <td>Technology: Consumer Internet</td>\n",
       "      <td>32 weeks</td>\n",
       "      <td>0 weeks</td>\n",
       "    </tr>\n",
       "    <tr>\n",
       "      <th>3</th>\n",
       "      <td>Adobe Systems</td>\n",
       "      <td>Technology: Software</td>\n",
       "      <td>26 weeks</td>\n",
       "      <td>6 weeks</td>\n",
       "    </tr>\n",
       "    <tr>\n",
       "      <th>4</th>\n",
       "      <td>FireEye Inc.</td>\n",
       "      <td>Technology: Security</td>\n",
       "      <td>22 weeks</td>\n",
       "      <td>N/A</td>\n",
       "    </tr>\n",
       "  </tbody>\n",
       "</table>\n",
       "</div>"
      ],
      "text/plain": [
       "                             company                       industry      paid  \\\n",
       "0  Bill and Melinda Gates Foundation                      Nonprofit  52 weeks   \n",
       "1                            Netflix  Technology: Consumer Internet  52 weeks   \n",
       "2                   Automattic, Inc.  Technology: Consumer Internet  32 weeks   \n",
       "3                      Adobe Systems           Technology: Software  26 weeks   \n",
       "4                       FireEye Inc.           Technology: Security  22 weeks   \n",
       "\n",
       "    unpaid  \n",
       "0      N/A  \n",
       "1  2 weeks  \n",
       "2  0 weeks  \n",
       "3  6 weeks  \n",
       "4      N/A  "
      ]
     },
     "execution_count": 4,
     "metadata": {},
     "output_type": "execute_result"
    }
   ],
   "source": [
    "# create pandas dataframe object\n",
    "df = pd.DataFrame(collect_cos, columns = ['company','industry','paid','unpaid'])\n",
    "\n",
    "df.head()"
   ]
  },
  {
   "cell_type": "code",
   "execution_count": 5,
   "metadata": {
    "collapsed": false
   },
   "outputs": [
    {
     "name": "stdout",
     "output_type": "stream",
     "text": [
      "Industries: 110\n"
     ]
    }
   ],
   "source": [
    "# Question 1: how many different industry types do we have?\n",
    "\n",
    "print \"Industries: {0}\".format(len(df.industry.unique()))"
   ]
  },
  {
   "cell_type": "code",
   "execution_count": 6,
   "metadata": {
    "collapsed": false
   },
   "outputs": [],
   "source": [
    "# Question 2: are paid/unpaid time measured in units besides weeks?\n",
    "\n",
    "for i,row in df.iterrows():\n",
    "    if row['paid']!=\"N/A\":\n",
    "        if \"weeks\" not in row['paid']:\n",
    "            print \"Measured in units that are not weeks!\"\n",
    "    if row['unpaid']!=\"N/A\":\n",
    "        if \"weeks\" not in row['unpaid']:\n",
    "            print \"Measured in units that are not weeks!\""
   ]
  },
  {
   "cell_type": "code",
   "execution_count": 7,
   "metadata": {
    "collapsed": true
   },
   "outputs": [],
   "source": [
    "# Problem 1: convert paid and unpaid to numeric values\n",
    "\n",
    "def extract_num(val):\n",
    "    if val == \"N/A\":\n",
    "        return None\n",
    "    else:\n",
    "        return int(val[:-6])\n",
    "\n",
    "df['paid_leave'] = df['paid'].map(lambda x: extract_num(x))\n",
    "df['unpaid_leave'] = df['unpaid'].map(lambda x: extract_num(x))"
   ]
  },
  {
   "cell_type": "code",
   "execution_count": 8,
   "metadata": {
    "collapsed": false
   },
   "outputs": [],
   "source": [
    "# Problem 2: clean industry field\n",
    "\n",
    "def clean_industry(val):\n",
    "    if val == \"N/A\": #create 'Unspecified' value to capture all null values\n",
    "        return \"Unspecified\"\n",
    "    \n",
    "    if val == \"akqaa\": #company AKQA is coded with industry akqaa. Convert to \"Technology\"\n",
    "        return \"Technology\"\n",
    "    \n",
    "    if val == \"Auto parts manufacturing\" or val == \"Auto parts\": #combine Auto parts and Auto parts manufacturing\n",
    "        return \"Auto manufacturers\"\n",
    "    \n",
    "    else: #reduce number of industries by merging to base industry. eg. Technology: Software -> Technology\n",
    "        return val.split(':')[0]\n",
    "    \n",
    "df['industry_parsed'] = df['industry'].map(lambda x: clean_industry(x))"
   ]
  },
  {
   "cell_type": "code",
   "execution_count": 9,
   "metadata": {
    "collapsed": false
   },
   "outputs": [
    {
     "name": "stdout",
     "output_type": "stream",
     "text": [
      "Industries (parsed): 39\n"
     ]
    }
   ],
   "source": [
    "# Question 1 (revisited): how many different industry types do we have?\n",
    "# Industries inputted as \"N/A\" are now part of \"Unspecified\" category\n",
    "\n",
    "print \"Industries (parsed): {0}\".format(len(df.industry_parsed.unique()))"
   ]
  },
  {
   "cell_type": "code",
   "execution_count": 10,
   "metadata": {
    "collapsed": false
   },
   "outputs": [
    {
     "data": {
      "text/plain": [
       "Technology                      111\n",
       "Unspecified                      66\n",
       "Legal services                   65\n",
       "Finance                          58\n",
       "Retail                           53\n",
       "Healthcare                       35\n",
       "Educational Services             35\n",
       "Natural Resources                34\n",
       "FMCG                             31\n",
       "Insurance                        30\n",
       "Media                            26\n",
       "Consulting services              22\n",
       "Pharmaceutical                   21\n",
       "Nonprofit                        19\n",
       "Industrial                       17\n",
       "Transportation                   16\n",
       "Business Services                15\n",
       "Hospitality                      15\n",
       "Information Services             14\n",
       "Telecommunications               11\n",
       "Advertising                      11\n",
       "Government                       10\n",
       "Auto manufacturers                9\n",
       "Aerospace                         8\n",
       "Accounting services               5\n",
       "Services                          5\n",
       "Conglomerate                      4\n",
       "Real Estate Company               4\n",
       "Pharmacies and Drug Stores        4\n",
       "Publishing                        4\n",
       "Electronics Manufacturing         3\n",
       "Public Relations                  2\n",
       "Auto dealers                      2\n",
       "Diversified industrials           2\n",
       "Research & Development            1\n",
       "Real Estate Investment Trust      1\n",
       "Electronics Wholesaler            1\n",
       "Packaging                         1\n",
       "Maritime                          1\n",
       "dtype: int64"
      ]
     },
     "execution_count": 10,
     "metadata": {},
     "output_type": "execute_result"
    }
   ],
   "source": [
    "# Industry categories\n",
    "\n",
    "df.industry_parsed.value_counts(dropna=False)"
   ]
  },
  {
   "cell_type": "code",
   "execution_count": 11,
   "metadata": {
    "collapsed": false
   },
   "outputs": [
    {
     "data": {
      "text/html": [
       "<div>\n",
       "<table border=\"1\" class=\"dataframe\">\n",
       "  <thead>\n",
       "    <tr style=\"text-align: right;\">\n",
       "      <th></th>\n",
       "      <th>company</th>\n",
       "      <th>industry</th>\n",
       "      <th>paid</th>\n",
       "      <th>unpaid</th>\n",
       "      <th>paid_leave</th>\n",
       "      <th>unpaid_leave</th>\n",
       "      <th>industry_parsed</th>\n",
       "    </tr>\n",
       "  </thead>\n",
       "  <tbody>\n",
       "    <tr>\n",
       "      <th>0</th>\n",
       "      <td>Bill and Melinda Gates Foundation</td>\n",
       "      <td>Nonprofit</td>\n",
       "      <td>52 weeks</td>\n",
       "      <td>N/A</td>\n",
       "      <td>52</td>\n",
       "      <td>NaN</td>\n",
       "      <td>Nonprofit</td>\n",
       "    </tr>\n",
       "    <tr>\n",
       "      <th>1</th>\n",
       "      <td>Netflix</td>\n",
       "      <td>Technology: Consumer Internet</td>\n",
       "      <td>52 weeks</td>\n",
       "      <td>2 weeks</td>\n",
       "      <td>52</td>\n",
       "      <td>2</td>\n",
       "      <td>Technology</td>\n",
       "    </tr>\n",
       "    <tr>\n",
       "      <th>2</th>\n",
       "      <td>Automattic, Inc.</td>\n",
       "      <td>Technology: Consumer Internet</td>\n",
       "      <td>32 weeks</td>\n",
       "      <td>0 weeks</td>\n",
       "      <td>32</td>\n",
       "      <td>0</td>\n",
       "      <td>Technology</td>\n",
       "    </tr>\n",
       "    <tr>\n",
       "      <th>3</th>\n",
       "      <td>Adobe Systems</td>\n",
       "      <td>Technology: Software</td>\n",
       "      <td>26 weeks</td>\n",
       "      <td>6 weeks</td>\n",
       "      <td>26</td>\n",
       "      <td>6</td>\n",
       "      <td>Technology</td>\n",
       "    </tr>\n",
       "    <tr>\n",
       "      <th>4</th>\n",
       "      <td>FireEye Inc.</td>\n",
       "      <td>Technology: Security</td>\n",
       "      <td>22 weeks</td>\n",
       "      <td>N/A</td>\n",
       "      <td>22</td>\n",
       "      <td>NaN</td>\n",
       "      <td>Technology</td>\n",
       "    </tr>\n",
       "    <tr>\n",
       "      <th>5</th>\n",
       "      <td>Orrick, Herrington &amp; Sutcliffe LLP</td>\n",
       "      <td>Legal services</td>\n",
       "      <td>22 weeks</td>\n",
       "      <td>N/A</td>\n",
       "      <td>22</td>\n",
       "      <td>NaN</td>\n",
       "      <td>Legal services</td>\n",
       "    </tr>\n",
       "    <tr>\n",
       "      <th>6</th>\n",
       "      <td>Avaya</td>\n",
       "      <td>Technology: B2B Tech Services</td>\n",
       "      <td>22 weeks</td>\n",
       "      <td>N/A</td>\n",
       "      <td>22</td>\n",
       "      <td>NaN</td>\n",
       "      <td>Technology</td>\n",
       "    </tr>\n",
       "    <tr>\n",
       "      <th>8</th>\n",
       "      <td>Debevoise &amp; Plimpton LLP</td>\n",
       "      <td>Legal services</td>\n",
       "      <td>20 weeks</td>\n",
       "      <td>N/A</td>\n",
       "      <td>20</td>\n",
       "      <td>NaN</td>\n",
       "      <td>Legal services</td>\n",
       "    </tr>\n",
       "    <tr>\n",
       "      <th>9</th>\n",
       "      <td>Microsoft</td>\n",
       "      <td>Technology: Software</td>\n",
       "      <td>20 weeks</td>\n",
       "      <td>0 weeks</td>\n",
       "      <td>20</td>\n",
       "      <td>0</td>\n",
       "      <td>Technology</td>\n",
       "    </tr>\n",
       "    <tr>\n",
       "      <th>7</th>\n",
       "      <td>Twitter</td>\n",
       "      <td>Technology: Consumer Internet</td>\n",
       "      <td>20 weeks</td>\n",
       "      <td>N/A</td>\n",
       "      <td>20</td>\n",
       "      <td>NaN</td>\n",
       "      <td>Technology</td>\n",
       "    </tr>\n",
       "  </tbody>\n",
       "</table>\n",
       "</div>"
      ],
      "text/plain": [
       "                              company                       industry  \\\n",
       "0   Bill and Melinda Gates Foundation                      Nonprofit   \n",
       "1                             Netflix  Technology: Consumer Internet   \n",
       "2                    Automattic, Inc.  Technology: Consumer Internet   \n",
       "3                       Adobe Systems           Technology: Software   \n",
       "4                        FireEye Inc.           Technology: Security   \n",
       "5  Orrick, Herrington & Sutcliffe LLP                 Legal services   \n",
       "6                               Avaya  Technology: B2B Tech Services   \n",
       "8            Debevoise & Plimpton LLP                 Legal services   \n",
       "9                           Microsoft           Technology: Software   \n",
       "7                             Twitter  Technology: Consumer Internet   \n",
       "\n",
       "       paid   unpaid  paid_leave  unpaid_leave industry_parsed  \n",
       "0  52 weeks      N/A          52           NaN       Nonprofit  \n",
       "1  52 weeks  2 weeks          52             2      Technology  \n",
       "2  32 weeks  0 weeks          32             0      Technology  \n",
       "3  26 weeks  6 weeks          26             6      Technology  \n",
       "4  22 weeks      N/A          22           NaN      Technology  \n",
       "5  22 weeks      N/A          22           NaN  Legal services  \n",
       "6  22 weeks      N/A          22           NaN      Technology  \n",
       "8  20 weeks      N/A          20           NaN  Legal services  \n",
       "9  20 weeks  0 weeks          20             0      Technology  \n",
       "7  20 weeks      N/A          20           NaN      Technology  "
      ]
     },
     "execution_count": 11,
     "metadata": {},
     "output_type": "execute_result"
    }
   ],
   "source": [
    "df.sort('paid_leave', ascending=False).head(10)"
   ]
  },
  {
   "cell_type": "code",
   "execution_count": 12,
   "metadata": {
    "collapsed": false
   },
   "outputs": [
    {
     "name": "stdout",
     "output_type": "stream",
     "text": [
      "772\n",
      "349\n"
     ]
    }
   ],
   "source": [
    "# Problem 3: dropping ALL null values decreases observations from 772 to 349! Let's not do that.\n",
    "\n",
    "print len(df)\n",
    "print len(df.dropna())"
   ]
  },
  {
   "cell_type": "code",
   "execution_count": 13,
   "metadata": {
    "collapsed": false
   },
   "outputs": [],
   "source": [
    "# group by industry\n",
    "\n",
    "gb = df.groupby('industry_parsed')"
   ]
  },
  {
   "cell_type": "code",
   "execution_count": 14,
   "metadata": {
    "collapsed": false
   },
   "outputs": [],
   "source": [
    "# export average paid/unpaid leave (in weeks) to csv\n",
    "\n",
    "gb['paid_leave','unpaid_leave'].mean().to_csv(\"industry_means.csv\")"
   ]
  },
  {
   "cell_type": "code",
   "execution_count": 15,
   "metadata": {
    "collapsed": false,
    "scrolled": true
   },
   "outputs": [],
   "source": [
    "# include count (number of companies inputted for each industry value)\n",
    "\n",
    "df_temp = gb['paid_leave','unpaid_leave'].agg(['mean', 'count'])\n",
    "\n",
    "# shape it right!\n",
    "\n",
    "df_temp = df_temp.stack(1).reset_index()\n",
    "df_temp.columns = ['industry','measure','paid_leave','unpaid_leave']\n",
    "df_temp = df_temp.set_index('industry')\n",
    "\n",
    "df_temp.to_csv(\"industry_means_counts.csv\")"
   ]
  },
  {
   "cell_type": "code",
   "execution_count": 16,
   "metadata": {
    "collapsed": false
   },
   "outputs": [
    {
     "data": {
      "text/html": [
       "<div>\n",
       "<table border=\"1\" class=\"dataframe\">\n",
       "  <thead>\n",
       "    <tr style=\"text-align: right;\">\n",
       "      <th></th>\n",
       "      <th>measure</th>\n",
       "      <th>paid_leave</th>\n",
       "      <th>unpaid_leave</th>\n",
       "    </tr>\n",
       "    <tr>\n",
       "      <th>industry</th>\n",
       "      <th></th>\n",
       "      <th></th>\n",
       "      <th></th>\n",
       "    </tr>\n",
       "  </thead>\n",
       "  <tbody>\n",
       "    <tr>\n",
       "      <th>Accounting services</th>\n",
       "      <td>mean</td>\n",
       "      <td>10.000000</td>\n",
       "      <td>8.50</td>\n",
       "    </tr>\n",
       "    <tr>\n",
       "      <th>Accounting services</th>\n",
       "      <td>count</td>\n",
       "      <td>5.000000</td>\n",
       "      <td>2.00</td>\n",
       "    </tr>\n",
       "    <tr>\n",
       "      <th>Advertising</th>\n",
       "      <td>mean</td>\n",
       "      <td>6.363636</td>\n",
       "      <td>5.75</td>\n",
       "    </tr>\n",
       "    <tr>\n",
       "      <th>Advertising</th>\n",
       "      <td>count</td>\n",
       "      <td>11.000000</td>\n",
       "      <td>4.00</td>\n",
       "    </tr>\n",
       "    <tr>\n",
       "      <th>Aerospace</th>\n",
       "      <td>mean</td>\n",
       "      <td>4.285714</td>\n",
       "      <td>9.60</td>\n",
       "    </tr>\n",
       "  </tbody>\n",
       "</table>\n",
       "</div>"
      ],
      "text/plain": [
       "                    measure  paid_leave  unpaid_leave\n",
       "industry                                             \n",
       "Accounting services    mean   10.000000          8.50\n",
       "Accounting services   count    5.000000          2.00\n",
       "Advertising            mean    6.363636          5.75\n",
       "Advertising           count   11.000000          4.00\n",
       "Aerospace              mean    4.285714          9.60"
      ]
     },
     "execution_count": 16,
     "metadata": {},
     "output_type": "execute_result"
    }
   ],
   "source": [
    "df_temp.head()"
   ]
  },
  {
   "cell_type": "code",
   "execution_count": null,
   "metadata": {
    "collapsed": true
   },
   "outputs": [],
   "source": []
  }
 ],
 "metadata": {
  "kernelspec": {
   "display_name": "Python 2",
   "language": "python",
   "name": "python2"
  },
  "language_info": {
   "codemirror_mode": {
    "name": "ipython",
    "version": 2
   },
   "file_extension": ".py",
   "mimetype": "text/x-python",
   "name": "python",
   "nbconvert_exporter": "python",
   "pygments_lexer": "ipython2",
   "version": "2.7.10"
  }
 },
 "nbformat": 4,
 "nbformat_minor": 0
}
