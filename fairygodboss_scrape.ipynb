{
 "cells": [
  {
   "cell_type": "code",
   "execution_count": 1,
   "metadata": {
    "collapsed": false
   },
   "outputs": [
    {
     "name": "stderr",
     "output_type": "stream",
     "text": [
      "/usr/local/lib/python2.7/site-packages/matplotlib/__init__.py:872: UserWarning: axes.color_cycle is deprecated and replaced with axes.prop_cycle; please use the latter.\n",
      "  warnings.warn(self.msg_depr % (key, alt_key))\n"
     ]
    }
   ],
   "source": [
    "import requests\n",
    "from bs4 import BeautifulSoup\n",
    "import pandas as pd\n",
    "\n",
    "import seaborn as sns\n",
    "import matplotlib.pyplot as plt\n",
    "%matplotlib inline\n",
    "import pickle"
   ]
  },
  {
   "cell_type": "code",
   "execution_count": 2,
   "metadata": {
    "collapsed": true
   },
   "outputs": [],
   "source": [
    "# generate BeautifulSoup object \n",
    "url = \"https://fairygodboss.com/maternity-leave-resource-center\"\n",
    "response = requests.post(url)\n",
    "page = response.text\n",
    "soup = BeautifulSoup(page,\"html.parser\")"
   ]
  },
  {
   "cell_type": "code",
   "execution_count": 3,
   "metadata": {
    "collapsed": false
   },
   "outputs": [
    {
     "name": "stdout",
     "output_type": "stream",
     "text": [
      "Number of companies scraped: 945\n"
     ]
    }
   ],
   "source": [
    "# scrape company information\n",
    "collect_cos = []\n",
    "for line in soup.findAll('a',attrs = {'class':'comp_page'}):\n",
    "    \n",
    "    try:\n",
    "        #filter out line breaks and remove extra white space\n",
    "        co = [i.text.strip() for i in line.children if str(i) not in ['\\n']] \n",
    "        \n",
    "        #append company to list\n",
    "        collect_cos.append(co)\n",
    "        \n",
    "    except:\n",
    "        print \"something's wrong\"\n",
    "        continue\n",
    "        \n",
    "print \"Number of companies scraped: {0}\".format(len(collect_cos))"
   ]
  },
  {
   "cell_type": "code",
   "execution_count": 4,
   "metadata": {
    "collapsed": false
   },
   "outputs": [
    {
     "data": {
      "text/html": [
       "<div>\n",
       "<table border=\"1\" class=\"dataframe\">\n",
       "  <thead>\n",
       "    <tr style=\"text-align: right;\">\n",
       "      <th></th>\n",
       "      <th>company</th>\n",
       "      <th>industry</th>\n",
       "      <th>paid</th>\n",
       "      <th>unpaid</th>\n",
       "    </tr>\n",
       "  </thead>\n",
       "  <tbody>\n",
       "    <tr>\n",
       "      <th>0</th>\n",
       "      <td>Bill and Melinda Gates Foundation</td>\n",
       "      <td>Nonprofit</td>\n",
       "      <td>52 weeks</td>\n",
       "      <td>N/A</td>\n",
       "    </tr>\n",
       "    <tr>\n",
       "      <th>1</th>\n",
       "      <td>Netflix</td>\n",
       "      <td>Technology: Consumer Internet</td>\n",
       "      <td>52 weeks</td>\n",
       "      <td>2 weeks</td>\n",
       "    </tr>\n",
       "    <tr>\n",
       "      <th>2</th>\n",
       "      <td>Automattic, Inc.</td>\n",
       "      <td>Technology: Consumer Internet</td>\n",
       "      <td>32 weeks</td>\n",
       "      <td>0 weeks</td>\n",
       "    </tr>\n",
       "    <tr>\n",
       "      <th>3</th>\n",
       "      <td>Adobe Systems</td>\n",
       "      <td>Technology: Software</td>\n",
       "      <td>26 weeks</td>\n",
       "      <td>6 weeks</td>\n",
       "    </tr>\n",
       "    <tr>\n",
       "      <th>4</th>\n",
       "      <td>Motorola Mobility</td>\n",
       "      <td>Technology: Manufacturing</td>\n",
       "      <td>24 weeks</td>\n",
       "      <td>N/A</td>\n",
       "    </tr>\n",
       "  </tbody>\n",
       "</table>\n",
       "</div>"
      ],
      "text/plain": [
       "                             company                       industry      paid  \\\n",
       "0  Bill and Melinda Gates Foundation                      Nonprofit  52 weeks   \n",
       "1                            Netflix  Technology: Consumer Internet  52 weeks   \n",
       "2                   Automattic, Inc.  Technology: Consumer Internet  32 weeks   \n",
       "3                      Adobe Systems           Technology: Software  26 weeks   \n",
       "4                  Motorola Mobility      Technology: Manufacturing  24 weeks   \n",
       "\n",
       "    unpaid  \n",
       "0      N/A  \n",
       "1  2 weeks  \n",
       "2  0 weeks  \n",
       "3  6 weeks  \n",
       "4      N/A  "
      ]
     },
     "execution_count": 4,
     "metadata": {},
     "output_type": "execute_result"
    }
   ],
   "source": [
    "# create pandas dataframe object\n",
    "df = pd.DataFrame(collect_cos, columns = ['company','industry','paid','unpaid'])\n",
    "\n",
    "df.head()"
   ]
  },
  {
   "cell_type": "code",
   "execution_count": 5,
   "metadata": {
    "collapsed": false
   },
   "outputs": [
    {
     "name": "stdout",
     "output_type": "stream",
     "text": [
      "Industries: 127\n"
     ]
    }
   ],
   "source": [
    "# Question 1: how many different industries are we looking at?\n",
    "\n",
    "print \"Industries: {0}\".format(len(df.industry.unique()))"
   ]
  },
  {
   "cell_type": "code",
   "execution_count": 6,
   "metadata": {
    "collapsed": false
   },
   "outputs": [],
   "source": [
    "# Question 2: are paid/unpaid time measured in units besides weeks?\n",
    "\n",
    "for i,row in df.iterrows():\n",
    "    if row['paid']!=\"N/A\":\n",
    "        if \"weeks\" not in row['paid']:\n",
    "            print \"Measured in units that are not weeks!\"\n",
    "    if row['unpaid']!=\"N/A\":\n",
    "        if \"weeks\" not in row['unpaid']:\n",
    "            print \"Measured in units that are not weeks!\""
   ]
  },
  {
   "cell_type": "code",
   "execution_count": 7,
   "metadata": {
    "collapsed": true
   },
   "outputs": [],
   "source": [
    "# Problem 1: convert paid and unpaid to numeric values\n",
    "\n",
    "def extract_num(val):\n",
    "    if val == \"N/A\":\n",
    "        return None\n",
    "    else:\n",
    "        return int(val[:-6])\n",
    "\n",
    "df['paid_leave'] = df['paid'].map(lambda x: extract_num(x))\n",
    "df['unpaid_leave'] = df['unpaid'].map(lambda x: extract_num(x))"
   ]
  },
  {
   "cell_type": "code",
   "execution_count": 8,
   "metadata": {
    "collapsed": false
   },
   "outputs": [],
   "source": [
    "# Problem 2: clean industry field\n",
    "# TODO: read in all industries as lower case\n",
    "\n",
    "def clean_industry(val):\n",
    "    if val == \"N/A\": #create 'Unspecified' value to capture all null values\n",
    "        return \"Unspecified\"\n",
    "    \n",
    "    if val == \"akqaa\": #company AKQA is coded with industry akqaa. Convert to \"Technology\"\n",
    "        return \"Technology\"\n",
    "    \n",
    "    if val == \"Auto parts manufacturing\" or val == \"Auto parts\": #combine Auto parts and Auto parts manufacturing\n",
    "        return \"Auto manufacturers\"\n",
    "    \n",
    "    if val == \"Consulting Services\":\n",
    "        return \"Consulting services\"\n",
    "    \n",
    "    else: #reduce number of industries by merging to base industry. eg. Technology: Software -> Technology\n",
    "        return val.split(':')[0]\n",
    "    \n",
    "df['industry_parsed'] = df['industry'].map(lambda x: clean_industry(x))"
   ]
  },
  {
   "cell_type": "code",
   "execution_count": 9,
   "metadata": {
    "collapsed": false
   },
   "outputs": [
    {
     "name": "stdout",
     "output_type": "stream",
     "text": [
      "Industries (parsed): 43\n"
     ]
    }
   ],
   "source": [
    "# Question 1 (revisited): how many different industry types do we have?\n",
    "# Industries inputted as \"N/A\" are now part of \"Unspecified\" category\n",
    "\n",
    "print \"Industries (parsed): {0}\".format(len(df.industry_parsed.unique()))"
   ]
  },
  {
   "cell_type": "code",
   "execution_count": 10,
   "metadata": {
    "collapsed": false
   },
   "outputs": [
    {
     "data": {
      "text/plain": [
       "Technology                      151\n",
       "Legal services                   78\n",
       "Retail                           73\n",
       "Finance                          66\n",
       "Educational Services             59\n",
       "Healthcare                       55\n",
       "Natural Resources                40\n",
       "FMCG                             38\n",
       "Insurance                        37\n",
       "Media                            33\n",
       "Nonprofit                        28\n",
       "Industrial                       27\n",
       "Consulting services              25\n",
       "Pharmaceutical                   25\n",
       "Hospitality                      21\n",
       "Government                       19\n",
       "Business Services                19\n",
       "Advertising                      18\n",
       "Information Services             18\n",
       "Transportation                   17\n",
       "Telecommunications               12\n",
       "Auto manufacturers               10\n",
       "Aerospace                         9\n",
       "Unspecified                       9\n",
       "Real Estate Company               7\n",
       "Services                          7\n",
       "Accounting services               6\n",
       "Publishing                        6\n",
       "Diversified industrials           4\n",
       "Conglomerate                      4\n",
       "Pharmacies and Drug Stores        4\n",
       "Public Relations                  4\n",
       "Electronics Manufacturing         3\n",
       "Research & Development            2\n",
       "Real Estate Investment Trust      2\n",
       "Auto dealers                      2\n",
       "Fine Art Auctions                 1\n",
       "Wholesale                         1\n",
       "Electronics Wholesaler            1\n",
       "Research                          1\n",
       "Packaging                         1\n",
       "Maritime                          1\n",
       "Design                            1\n",
       "Name: industry_parsed, dtype: int64"
      ]
     },
     "execution_count": 10,
     "metadata": {},
     "output_type": "execute_result"
    }
   ],
   "source": [
    "# Industry categories + counts\n",
    "\n",
    "pd.DataFrame(df.industry_parsed.value_counts(dropna=False)).to_csv('./data/industry_counts_total.csv') #write to csv for chart\n",
    "\n",
    "df.industry_parsed.value_counts(dropna=False)"
   ]
  },
  {
   "cell_type": "code",
   "execution_count": 11,
   "metadata": {
    "collapsed": false
   },
   "outputs": [
    {
     "data": {
      "text/html": [
       "<div>\n",
       "<table border=\"1\" class=\"dataframe\">\n",
       "  <thead>\n",
       "    <tr style=\"text-align: right;\">\n",
       "      <th></th>\n",
       "      <th>company</th>\n",
       "      <th>industry</th>\n",
       "      <th>paid</th>\n",
       "      <th>unpaid</th>\n",
       "      <th>paid_leave</th>\n",
       "      <th>unpaid_leave</th>\n",
       "      <th>industry_parsed</th>\n",
       "    </tr>\n",
       "  </thead>\n",
       "  <tbody>\n",
       "    <tr>\n",
       "      <th>0</th>\n",
       "      <td>Bill and Melinda Gates Foundation</td>\n",
       "      <td>Nonprofit</td>\n",
       "      <td>52 weeks</td>\n",
       "      <td>N/A</td>\n",
       "      <td>52</td>\n",
       "      <td>NaN</td>\n",
       "      <td>Nonprofit</td>\n",
       "    </tr>\n",
       "    <tr>\n",
       "      <th>1</th>\n",
       "      <td>Netflix</td>\n",
       "      <td>Technology: Consumer Internet</td>\n",
       "      <td>52 weeks</td>\n",
       "      <td>2 weeks</td>\n",
       "      <td>52</td>\n",
       "      <td>2</td>\n",
       "      <td>Technology</td>\n",
       "    </tr>\n",
       "    <tr>\n",
       "      <th>2</th>\n",
       "      <td>Automattic, Inc.</td>\n",
       "      <td>Technology: Consumer Internet</td>\n",
       "      <td>32 weeks</td>\n",
       "      <td>0 weeks</td>\n",
       "      <td>32</td>\n",
       "      <td>0</td>\n",
       "      <td>Technology</td>\n",
       "    </tr>\n",
       "    <tr>\n",
       "      <th>3</th>\n",
       "      <td>Adobe Systems</td>\n",
       "      <td>Technology: Software</td>\n",
       "      <td>26 weeks</td>\n",
       "      <td>6 weeks</td>\n",
       "      <td>26</td>\n",
       "      <td>6</td>\n",
       "      <td>Technology</td>\n",
       "    </tr>\n",
       "    <tr>\n",
       "      <th>4</th>\n",
       "      <td>Motorola Mobility</td>\n",
       "      <td>Technology: Manufacturing</td>\n",
       "      <td>24 weeks</td>\n",
       "      <td>N/A</td>\n",
       "      <td>24</td>\n",
       "      <td>NaN</td>\n",
       "      <td>Technology</td>\n",
       "    </tr>\n",
       "    <tr>\n",
       "      <th>5</th>\n",
       "      <td>Spotify</td>\n",
       "      <td>Technology: Consumer Internet</td>\n",
       "      <td>24 weeks</td>\n",
       "      <td>N/A</td>\n",
       "      <td>24</td>\n",
       "      <td>NaN</td>\n",
       "      <td>Technology</td>\n",
       "    </tr>\n",
       "    <tr>\n",
       "      <th>6</th>\n",
       "      <td>FireEye Inc.</td>\n",
       "      <td>Technology: Security</td>\n",
       "      <td>22 weeks</td>\n",
       "      <td>N/A</td>\n",
       "      <td>22</td>\n",
       "      <td>NaN</td>\n",
       "      <td>Technology</td>\n",
       "    </tr>\n",
       "    <tr>\n",
       "      <th>7</th>\n",
       "      <td>Orrick, Herrington &amp; Sutcliffe LLP</td>\n",
       "      <td>Legal services</td>\n",
       "      <td>22 weeks</td>\n",
       "      <td>N/A</td>\n",
       "      <td>22</td>\n",
       "      <td>NaN</td>\n",
       "      <td>Legal services</td>\n",
       "    </tr>\n",
       "    <tr>\n",
       "      <th>8</th>\n",
       "      <td>Avaya</td>\n",
       "      <td>Technology: B2B Tech Services</td>\n",
       "      <td>22 weeks</td>\n",
       "      <td>N/A</td>\n",
       "      <td>22</td>\n",
       "      <td>NaN</td>\n",
       "      <td>Technology</td>\n",
       "    </tr>\n",
       "    <tr>\n",
       "      <th>11</th>\n",
       "      <td>Microsoft</td>\n",
       "      <td>Technology: Software</td>\n",
       "      <td>20 weeks</td>\n",
       "      <td>0 weeks</td>\n",
       "      <td>20</td>\n",
       "      <td>0</td>\n",
       "      <td>Technology</td>\n",
       "    </tr>\n",
       "  </tbody>\n",
       "</table>\n",
       "</div>"
      ],
      "text/plain": [
       "                               company                       industry  \\\n",
       "0    Bill and Melinda Gates Foundation                      Nonprofit   \n",
       "1                              Netflix  Technology: Consumer Internet   \n",
       "2                     Automattic, Inc.  Technology: Consumer Internet   \n",
       "3                        Adobe Systems           Technology: Software   \n",
       "4                    Motorola Mobility      Technology: Manufacturing   \n",
       "5                              Spotify  Technology: Consumer Internet   \n",
       "6                         FireEye Inc.           Technology: Security   \n",
       "7   Orrick, Herrington & Sutcliffe LLP                 Legal services   \n",
       "8                                Avaya  Technology: B2B Tech Services   \n",
       "11                           Microsoft           Technology: Software   \n",
       "\n",
       "        paid   unpaid  paid_leave  unpaid_leave industry_parsed  \n",
       "0   52 weeks      N/A          52           NaN       Nonprofit  \n",
       "1   52 weeks  2 weeks          52             2      Technology  \n",
       "2   32 weeks  0 weeks          32             0      Technology  \n",
       "3   26 weeks  6 weeks          26             6      Technology  \n",
       "4   24 weeks      N/A          24           NaN      Technology  \n",
       "5   24 weeks      N/A          24           NaN      Technology  \n",
       "6   22 weeks      N/A          22           NaN      Technology  \n",
       "7   22 weeks      N/A          22           NaN  Legal services  \n",
       "8   22 weeks      N/A          22           NaN      Technology  \n",
       "11  20 weeks  0 weeks          20             0      Technology  "
      ]
     },
     "execution_count": 11,
     "metadata": {},
     "output_type": "execute_result"
    }
   ],
   "source": [
    "df.sort_values(by = 'paid_leave', ascending=False).head(10)"
   ]
  },
  {
   "cell_type": "code",
   "execution_count": 12,
   "metadata": {
    "collapsed": false
   },
   "outputs": [
    {
     "name": "stdout",
     "output_type": "stream",
     "text": [
      "945\n",
      "469\n"
     ]
    }
   ],
   "source": [
    "# size of dataset (number of companies)\n",
    "print len(df)\n",
    "print len(df.dropna())"
   ]
  },
  {
   "cell_type": "code",
   "execution_count": 13,
   "metadata": {
    "collapsed": false
   },
   "outputs": [
    {
     "name": "stdout",
     "output_type": "stream",
     "text": [
      "Average paid leave: 8.1 weeks\n",
      "Average unpaid leave 8.6 weeks\n"
     ]
    }
   ],
   "source": [
    "print \"Average paid leave: {0:.1f} weeks\".format(df['paid_leave'].mean())\n",
    "print \"Average unpaid leave {0:.1f} weeks\".format(df['unpaid_leave'].mean())"
   ]
  },
  {
   "cell_type": "code",
   "execution_count": 14,
   "metadata": {
    "collapsed": false
   },
   "outputs": [],
   "source": [
    "#save number of companies, industries, and avg paid/unpaid leave to pickle file\n",
    "#for chart and blogpost\n",
    "\n",
    "d = {'num_co':len(df),\n",
    "     'num_ind':len(df['industry_parsed'].unique()),\n",
    "     'avg_paid':df['paid_leave'].mean(),\n",
    "    'avg_unpaid':df['unpaid_leave'].mean()}\n",
    "\n",
    "with open('./data/key_metrics.pkl','w') as pf:\n",
    "    pickle.dump(d,pf)"
   ]
  },
  {
   "cell_type": "code",
   "execution_count": 15,
   "metadata": {
    "collapsed": false
   },
   "outputs": [
    {
     "data": {
      "text/html": [
       "<div>\n",
       "<table border=\"1\" class=\"dataframe\">\n",
       "  <thead>\n",
       "    <tr style=\"text-align: right;\">\n",
       "      <th></th>\n",
       "      <th>company</th>\n",
       "      <th>industry</th>\n",
       "      <th>paid</th>\n",
       "      <th>unpaid</th>\n",
       "      <th>paid_leave</th>\n",
       "      <th>unpaid_leave</th>\n",
       "      <th>industry_parsed</th>\n",
       "    </tr>\n",
       "  </thead>\n",
       "  <tbody>\n",
       "    <tr>\n",
       "      <th>122</th>\n",
       "      <td>Synergis</td>\n",
       "      <td>N/A</td>\n",
       "      <td>12 weeks</td>\n",
       "      <td>N/A</td>\n",
       "      <td>12</td>\n",
       "      <td>NaN</td>\n",
       "      <td>Unspecified</td>\n",
       "    </tr>\n",
       "    <tr>\n",
       "      <th>277</th>\n",
       "      <td>Cornerstone Chemical Company</td>\n",
       "      <td>N/A</td>\n",
       "      <td>10 weeks</td>\n",
       "      <td>2 weeks</td>\n",
       "      <td>10</td>\n",
       "      <td>2</td>\n",
       "      <td>Unspecified</td>\n",
       "    </tr>\n",
       "    <tr>\n",
       "      <th>704</th>\n",
       "      <td>QVC</td>\n",
       "      <td>N/A</td>\n",
       "      <td>2 weeks</td>\n",
       "      <td>0 weeks</td>\n",
       "      <td>2</td>\n",
       "      <td>0</td>\n",
       "      <td>Unspecified</td>\n",
       "    </tr>\n",
       "    <tr>\n",
       "      <th>737</th>\n",
       "      <td>Colorado Public Radio</td>\n",
       "      <td>N/A</td>\n",
       "      <td>0 weeks</td>\n",
       "      <td>N/A</td>\n",
       "      <td>0</td>\n",
       "      <td>NaN</td>\n",
       "      <td>Unspecified</td>\n",
       "    </tr>\n",
       "    <tr>\n",
       "      <th>738</th>\n",
       "      <td>Onward Search</td>\n",
       "      <td>N/A</td>\n",
       "      <td>0 weeks</td>\n",
       "      <td>N/A</td>\n",
       "      <td>0</td>\n",
       "      <td>NaN</td>\n",
       "      <td>Unspecified</td>\n",
       "    </tr>\n",
       "    <tr>\n",
       "      <th>739</th>\n",
       "      <td>Jenny Craig Inc.</td>\n",
       "      <td>N/A</td>\n",
       "      <td>0 weeks</td>\n",
       "      <td>N/A</td>\n",
       "      <td>0</td>\n",
       "      <td>NaN</td>\n",
       "      <td>Unspecified</td>\n",
       "    </tr>\n",
       "    <tr>\n",
       "      <th>740</th>\n",
       "      <td>AlliedBarton Security Services</td>\n",
       "      <td>N/A</td>\n",
       "      <td>0 weeks</td>\n",
       "      <td>4 weeks</td>\n",
       "      <td>0</td>\n",
       "      <td>4</td>\n",
       "      <td>Unspecified</td>\n",
       "    </tr>\n",
       "    <tr>\n",
       "      <th>741</th>\n",
       "      <td>SEPTA</td>\n",
       "      <td>N/A</td>\n",
       "      <td>0 weeks</td>\n",
       "      <td>12 weeks</td>\n",
       "      <td>0</td>\n",
       "      <td>12</td>\n",
       "      <td>Unspecified</td>\n",
       "    </tr>\n",
       "    <tr>\n",
       "      <th>810</th>\n",
       "      <td>menards</td>\n",
       "      <td>N/A</td>\n",
       "      <td>0 weeks</td>\n",
       "      <td>N/A</td>\n",
       "      <td>0</td>\n",
       "      <td>NaN</td>\n",
       "      <td>Unspecified</td>\n",
       "    </tr>\n",
       "  </tbody>\n",
       "</table>\n",
       "</div>"
      ],
      "text/plain": [
       "                            company industry      paid    unpaid  paid_leave  \\\n",
       "122                        Synergis      N/A  12 weeks       N/A          12   \n",
       "277    Cornerstone Chemical Company      N/A  10 weeks   2 weeks          10   \n",
       "704                             QVC      N/A   2 weeks   0 weeks           2   \n",
       "737           Colorado Public Radio      N/A   0 weeks       N/A           0   \n",
       "738                   Onward Search      N/A   0 weeks       N/A           0   \n",
       "739                Jenny Craig Inc.      N/A   0 weeks       N/A           0   \n",
       "740  AlliedBarton Security Services      N/A   0 weeks   4 weeks           0   \n",
       "741                           SEPTA      N/A   0 weeks  12 weeks           0   \n",
       "810                         menards      N/A   0 weeks       N/A           0   \n",
       "\n",
       "     unpaid_leave industry_parsed  \n",
       "122           NaN     Unspecified  \n",
       "277             2     Unspecified  \n",
       "704             0     Unspecified  \n",
       "737           NaN     Unspecified  \n",
       "738           NaN     Unspecified  \n",
       "739           NaN     Unspecified  \n",
       "740             4     Unspecified  \n",
       "741            12     Unspecified  \n",
       "810           NaN     Unspecified  "
      ]
     },
     "execution_count": 15,
     "metadata": {},
     "output_type": "execute_result"
    }
   ],
   "source": [
    "#unspecified companies need to separated into corresponding industries\n",
    "df[df['industry_parsed']=='Unspecified']"
   ]
  },
  {
   "cell_type": "markdown",
   "metadata": {},
   "source": [
    "####WRITE TO CSV FILES"
   ]
  },
  {
   "cell_type": "code",
   "execution_count": 16,
   "metadata": {
    "collapsed": false
   },
   "outputs": [],
   "source": [
    "# group by industry\n",
    "\n",
    "gb = df.groupby('industry_parsed')\n",
    "\n",
    "# export average paid/unpaid leave (in weeks) to csv\n",
    "\n",
    "gb['paid_leave','unpaid_leave'].mean().to_csv(\"./data/industry_means.csv\")"
   ]
  },
  {
   "cell_type": "code",
   "execution_count": 17,
   "metadata": {
    "collapsed": false,
    "scrolled": true
   },
   "outputs": [],
   "source": [
    "# include count (number of companies inputted for each industry value)\n",
    "\n",
    "df_temp = gb['paid_leave','unpaid_leave'].agg(['mean', 'count'])\n",
    "\n",
    "# shape it!\n",
    "\n",
    "df_temp = df_temp.stack(1).reset_index()\n",
    "df_temp.columns = ['industry','measure','paid_leave','unpaid_leave']\n",
    "df_temp = df_temp.set_index('industry')\n",
    "\n",
    "df_temp.to_csv(\"./data/industry_means_counts.csv\")"
   ]
  },
  {
   "cell_type": "code",
   "execution_count": 18,
   "metadata": {
    "collapsed": false
   },
   "outputs": [],
   "source": [
    "# reshaping to wide format \n",
    "\n",
    "df_temp_index = df_temp.reset_index()\n",
    "\n",
    "# extend 'measure' column for both paid and unpaid values\n",
    "\n",
    "unpaid = df_temp_index.pivot(index='industry',columns='measure',values='unpaid_leave').reset_index()\n",
    "paid = df_temp_index.pivot(index='industry',columns='measure',values='paid_leave').reset_index()\n",
    "\n",
    "wide = paid.merge(unpaid, on='industry', how = 'outer', suffixes = [\"_paid\",\"_unpaid\"])\n",
    "wide.set_index('industry')\n",
    "wide.to_csv('./data/industries_wide.csv')"
   ]
  },
  {
   "cell_type": "code",
   "execution_count": 19,
   "metadata": {
    "collapsed": false
   },
   "outputs": [],
   "source": [
    "# reshaping it again, experiments!\n",
    "\n",
    "trying = gb['paid_leave','unpaid_leave'].agg(['mean', 'count']).stack().reset_index()\n",
    "\n",
    "trying_again = trying.pivot_table(values=['paid_leave','unpaid_leave'], index='industry_parsed', columns='level_1')\n",
    "trying_again_no_index = trying_again.reset_index()\n",
    "\n",
    "yes=pd.melt(trying_again_no_index, id_vars=['industry_parsed'],value_vars=['paid_leave','unpaid_leave'])\n",
    "yes.columns = ['industry','type_leave','measure','val']\n",
    "\n",
    "yes = yes.pivot_table(index=['industry','type_leave'],values='val', columns = 'measure')\n",
    "yes.reset_index().to_csv(\"./data/industry_melted_v2.csv\")"
   ]
  }
 ],
 "metadata": {
  "kernelspec": {
   "display_name": "Python 2",
   "language": "python",
   "name": "python2"
  },
  "language_info": {
   "codemirror_mode": {
    "name": "ipython",
    "version": 2
   },
   "file_extension": ".py",
   "mimetype": "text/x-python",
   "name": "python",
   "nbconvert_exporter": "python",
   "pygments_lexer": "ipython2",
   "version": "2.7.10"
  }
 },
 "nbformat": 4,
 "nbformat_minor": 0
}
