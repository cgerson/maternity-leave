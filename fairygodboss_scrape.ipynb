{
 "cells": [
  {
   "cell_type": "code",
   "execution_count": 24,
   "metadata": {
    "collapsed": false
   },
   "outputs": [],
   "source": [
    "import requests\n",
    "from bs4 import BeautifulSoup\n",
    "import pandas as pd\n",
    "\n",
    "import seaborn as sns\n",
    "import matplotlib.pyplot as plt\n",
    "%matplotlib inline"
   ]
  },
  {
   "cell_type": "code",
   "execution_count": 25,
   "metadata": {
    "collapsed": true
   },
   "outputs": [],
   "source": [
    "# generate BeautifulSoup object \n",
    "url = \"https://fairygodboss.com/maternity-leave-resource-center\"\n",
    "response = requests.post(url)\n",
    "page = response.text\n",
    "soup = BeautifulSoup(page,\"html.parser\")"
   ]
  },
  {
   "cell_type": "code",
   "execution_count": 26,
   "metadata": {
    "collapsed": false
   },
   "outputs": [
    {
     "name": "stdout",
     "output_type": "stream",
     "text": [
      "Number of companies scraped: 805\n"
     ]
    }
   ],
   "source": [
    "# scrape company information\n",
    "collect_cos = []\n",
    "for line in soup.findAll('a',attrs = {'class':'comp_page'}):\n",
    "    \n",
    "    try:\n",
    "        #filter out line breaks and remove extra white space\n",
    "        co = [i.text.strip() for i in line.children if str(i) not in ['\\n']] \n",
    "        \n",
    "        #append company to list\n",
    "        collect_cos.append(co)\n",
    "        \n",
    "    except:\n",
    "        print \"something's wrong\"\n",
    "        continue\n",
    "        \n",
    "print \"Number of companies scraped: {0}\".format(len(collect_cos))"
   ]
  },
  {
   "cell_type": "code",
   "execution_count": 27,
   "metadata": {
    "collapsed": false
   },
   "outputs": [
    {
     "data": {
      "text/html": [
       "<div>\n",
       "<table border=\"1\" class=\"dataframe\">\n",
       "  <thead>\n",
       "    <tr style=\"text-align: right;\">\n",
       "      <th></th>\n",
       "      <th>company</th>\n",
       "      <th>industry</th>\n",
       "      <th>paid</th>\n",
       "      <th>unpaid</th>\n",
       "    </tr>\n",
       "  </thead>\n",
       "  <tbody>\n",
       "    <tr>\n",
       "      <th>0</th>\n",
       "      <td>Bill and Melinda Gates Foundation</td>\n",
       "      <td>Nonprofit</td>\n",
       "      <td>52 weeks</td>\n",
       "      <td>N/A</td>\n",
       "    </tr>\n",
       "    <tr>\n",
       "      <th>1</th>\n",
       "      <td>Netflix</td>\n",
       "      <td>Technology: Consumer Internet</td>\n",
       "      <td>52 weeks</td>\n",
       "      <td>2 weeks</td>\n",
       "    </tr>\n",
       "    <tr>\n",
       "      <th>2</th>\n",
       "      <td>Automattic, Inc.</td>\n",
       "      <td>Technology: Consumer Internet</td>\n",
       "      <td>32 weeks</td>\n",
       "      <td>0 weeks</td>\n",
       "    </tr>\n",
       "    <tr>\n",
       "      <th>3</th>\n",
       "      <td>Adobe Systems</td>\n",
       "      <td>Technology: Software</td>\n",
       "      <td>26 weeks</td>\n",
       "      <td>6 weeks</td>\n",
       "    </tr>\n",
       "    <tr>\n",
       "      <th>4</th>\n",
       "      <td>Spotify</td>\n",
       "      <td>Technology: Consumer Internet</td>\n",
       "      <td>24 weeks</td>\n",
       "      <td>N/A</td>\n",
       "    </tr>\n",
       "  </tbody>\n",
       "</table>\n",
       "</div>"
      ],
      "text/plain": [
       "                             company                       industry      paid  \\\n",
       "0  Bill and Melinda Gates Foundation                      Nonprofit  52 weeks   \n",
       "1                            Netflix  Technology: Consumer Internet  52 weeks   \n",
       "2                   Automattic, Inc.  Technology: Consumer Internet  32 weeks   \n",
       "3                      Adobe Systems           Technology: Software  26 weeks   \n",
       "4                            Spotify  Technology: Consumer Internet  24 weeks   \n",
       "\n",
       "    unpaid  \n",
       "0      N/A  \n",
       "1  2 weeks  \n",
       "2  0 weeks  \n",
       "3  6 weeks  \n",
       "4      N/A  "
      ]
     },
     "execution_count": 27,
     "metadata": {},
     "output_type": "execute_result"
    }
   ],
   "source": [
    "# create pandas dataframe object\n",
    "df = pd.DataFrame(collect_cos, columns = ['company','industry','paid','unpaid'])\n",
    "\n",
    "df.head()"
   ]
  },
  {
   "cell_type": "code",
   "execution_count": 28,
   "metadata": {
    "collapsed": false
   },
   "outputs": [
    {
     "name": "stdout",
     "output_type": "stream",
     "text": [
      "Industries: 117\n"
     ]
    }
   ],
   "source": [
    "# Question 1: how many different industries are we looking at?\n",
    "\n",
    "print \"Industries: {0}\".format(len(df.industry.unique()))"
   ]
  },
  {
   "cell_type": "code",
   "execution_count": 29,
   "metadata": {
    "collapsed": false
   },
   "outputs": [],
   "source": [
    "# Question 2: are paid/unpaid time measured in units besides weeks?\n",
    "\n",
    "for i,row in df.iterrows():\n",
    "    if row['paid']!=\"N/A\":\n",
    "        if \"weeks\" not in row['paid']:\n",
    "            print \"Measured in units that are not weeks!\"\n",
    "    if row['unpaid']!=\"N/A\":\n",
    "        if \"weeks\" not in row['unpaid']:\n",
    "            print \"Measured in units that are not weeks!\""
   ]
  },
  {
   "cell_type": "code",
   "execution_count": 30,
   "metadata": {
    "collapsed": true
   },
   "outputs": [],
   "source": [
    "# Problem 1: convert paid and unpaid to numeric values\n",
    "\n",
    "def extract_num(val):\n",
    "    if val == \"N/A\":\n",
    "        return None\n",
    "    else:\n",
    "        return int(val[:-6])\n",
    "\n",
    "df['paid_leave'] = df['paid'].map(lambda x: extract_num(x))\n",
    "df['unpaid_leave'] = df['unpaid'].map(lambda x: extract_num(x))"
   ]
  },
  {
   "cell_type": "code",
   "execution_count": 31,
   "metadata": {
    "collapsed": false
   },
   "outputs": [],
   "source": [
    "# Problem 2: clean industry field\n",
    "# TODO: read in all industries as lower case\n",
    "\n",
    "def clean_industry(val):\n",
    "    if val == \"N/A\": #create 'Unspecified' value to capture all null values\n",
    "        return \"Unspecified\"\n",
    "    \n",
    "    if val == \"akqaa\": #company AKQA is coded with industry akqaa. Convert to \"Technology\"\n",
    "        return \"Technology\"\n",
    "    \n",
    "    if val == \"Auto parts manufacturing\" or val == \"Auto parts\": #combine Auto parts and Auto parts manufacturing\n",
    "        return \"Auto manufacturers\"\n",
    "    \n",
    "    if val == \"Consulting Services\":\n",
    "        return \"Consulting services\"\n",
    "    \n",
    "    else: #reduce number of industries by merging to base industry. eg. Technology: Software -> Technology\n",
    "        return val.split(':')[0]\n",
    "    \n",
    "df['industry_parsed'] = df['industry'].map(lambda x: clean_industry(x))"
   ]
  },
  {
   "cell_type": "code",
   "execution_count": 32,
   "metadata": {
    "collapsed": false
   },
   "outputs": [
    {
     "name": "stdout",
     "output_type": "stream",
     "text": [
      "Industries (parsed): 40\n"
     ]
    }
   ],
   "source": [
    "# Question 1 (revisited): how many different industry types do we have?\n",
    "# Industries inputted as \"N/A\" are now part of \"Unspecified\" category\n",
    "\n",
    "print \"Industries (parsed): {0}\".format(len(df.industry_parsed.unique()))"
   ]
  },
  {
   "cell_type": "code",
   "execution_count": 33,
   "metadata": {
    "collapsed": false
   },
   "outputs": [
    {
     "data": {
      "text/plain": [
       "Technology                      120\n",
       "Legal services                   68\n",
       "Finance                          61\n",
       "Retail                           58\n",
       "Educational Services             49\n",
       "Healthcare                       42\n",
       "Natural Resources                35\n",
       "Insurance                        32\n",
       "FMCG                             32\n",
       "Media                            28\n",
       "Nonprofit                        25\n",
       "Consulting services              23\n",
       "Pharmaceutical                   21\n",
       "Unspecified                      20\n",
       "Industrial                       19\n",
       "Hospitality                      19\n",
       "Business Services                17\n",
       "Transportation                   16\n",
       "Government                       16\n",
       "Advertising                      15\n",
       "Information Services             14\n",
       "Telecommunications               12\n",
       "Auto manufacturers                9\n",
       "Aerospace                         8\n",
       "Services                          7\n",
       "Accounting services               5\n",
       "Real Estate Company               5\n",
       "Conglomerate                      4\n",
       "Pharmacies and Drug Stores        4\n",
       "Publishing                        4\n",
       "Electronics Manufacturing         3\n",
       "Diversified industrials           3\n",
       "Public Relations                  2\n",
       "Real Estate Investment Trust      2\n",
       "Auto dealers                      2\n",
       "Fine Art Auctions                 1\n",
       "Research & Development            1\n",
       "Electronics Wholesaler            1\n",
       "Packaging                         1\n",
       "Maritime                          1\n",
       "Name: industry_parsed, dtype: int64"
      ]
     },
     "execution_count": 33,
     "metadata": {},
     "output_type": "execute_result"
    }
   ],
   "source": [
    "# Industry categories + counts\n",
    "\n",
    "pd.DataFrame(df.industry_parsed.value_counts(dropna=False)).to_csv('industry_counts_total.csv') #write to csv for chart\n",
    "\n",
    "df.industry_parsed.value_counts(dropna=False)"
   ]
  },
  {
   "cell_type": "code",
   "execution_count": 42,
   "metadata": {
    "collapsed": false
   },
   "outputs": [
    {
     "data": {
      "text/html": [
       "<div>\n",
       "<table border=\"1\" class=\"dataframe\">\n",
       "  <thead>\n",
       "    <tr style=\"text-align: right;\">\n",
       "      <th></th>\n",
       "      <th>company</th>\n",
       "      <th>industry</th>\n",
       "      <th>paid</th>\n",
       "      <th>unpaid</th>\n",
       "      <th>paid_leave</th>\n",
       "      <th>unpaid_leave</th>\n",
       "      <th>industry_parsed</th>\n",
       "    </tr>\n",
       "  </thead>\n",
       "  <tbody>\n",
       "    <tr>\n",
       "      <th>0</th>\n",
       "      <td>Bill and Melinda Gates Foundation</td>\n",
       "      <td>Nonprofit</td>\n",
       "      <td>52 weeks</td>\n",
       "      <td>N/A</td>\n",
       "      <td>52</td>\n",
       "      <td>NaN</td>\n",
       "      <td>Nonprofit</td>\n",
       "    </tr>\n",
       "    <tr>\n",
       "      <th>1</th>\n",
       "      <td>Netflix</td>\n",
       "      <td>Technology: Consumer Internet</td>\n",
       "      <td>52 weeks</td>\n",
       "      <td>2 weeks</td>\n",
       "      <td>52</td>\n",
       "      <td>2</td>\n",
       "      <td>Technology</td>\n",
       "    </tr>\n",
       "    <tr>\n",
       "      <th>2</th>\n",
       "      <td>Automattic, Inc.</td>\n",
       "      <td>Technology: Consumer Internet</td>\n",
       "      <td>32 weeks</td>\n",
       "      <td>0 weeks</td>\n",
       "      <td>32</td>\n",
       "      <td>0</td>\n",
       "      <td>Technology</td>\n",
       "    </tr>\n",
       "    <tr>\n",
       "      <th>3</th>\n",
       "      <td>Adobe Systems</td>\n",
       "      <td>Technology: Software</td>\n",
       "      <td>26 weeks</td>\n",
       "      <td>6 weeks</td>\n",
       "      <td>26</td>\n",
       "      <td>6</td>\n",
       "      <td>Technology</td>\n",
       "    </tr>\n",
       "    <tr>\n",
       "      <th>4</th>\n",
       "      <td>Spotify</td>\n",
       "      <td>Technology: Consumer Internet</td>\n",
       "      <td>24 weeks</td>\n",
       "      <td>N/A</td>\n",
       "      <td>24</td>\n",
       "      <td>NaN</td>\n",
       "      <td>Technology</td>\n",
       "    </tr>\n",
       "    <tr>\n",
       "      <th>5</th>\n",
       "      <td>FireEye Inc.</td>\n",
       "      <td>Technology: Security</td>\n",
       "      <td>22 weeks</td>\n",
       "      <td>N/A</td>\n",
       "      <td>22</td>\n",
       "      <td>NaN</td>\n",
       "      <td>Technology</td>\n",
       "    </tr>\n",
       "    <tr>\n",
       "      <th>6</th>\n",
       "      <td>Orrick, Herrington &amp; Sutcliffe LLP</td>\n",
       "      <td>Legal services</td>\n",
       "      <td>22 weeks</td>\n",
       "      <td>N/A</td>\n",
       "      <td>22</td>\n",
       "      <td>NaN</td>\n",
       "      <td>Legal services</td>\n",
       "    </tr>\n",
       "    <tr>\n",
       "      <th>7</th>\n",
       "      <td>Avaya</td>\n",
       "      <td>Technology: B2B Tech Services</td>\n",
       "      <td>22 weeks</td>\n",
       "      <td>N/A</td>\n",
       "      <td>22</td>\n",
       "      <td>NaN</td>\n",
       "      <td>Technology</td>\n",
       "    </tr>\n",
       "    <tr>\n",
       "      <th>9</th>\n",
       "      <td>Microsoft</td>\n",
       "      <td>Technology: Software</td>\n",
       "      <td>20 weeks</td>\n",
       "      <td>0 weeks</td>\n",
       "      <td>20</td>\n",
       "      <td>0</td>\n",
       "      <td>Technology</td>\n",
       "    </tr>\n",
       "    <tr>\n",
       "      <th>8</th>\n",
       "      <td>Twitter</td>\n",
       "      <td>Technology: Consumer Internet</td>\n",
       "      <td>20 weeks</td>\n",
       "      <td>N/A</td>\n",
       "      <td>20</td>\n",
       "      <td>NaN</td>\n",
       "      <td>Technology</td>\n",
       "    </tr>\n",
       "  </tbody>\n",
       "</table>\n",
       "</div>"
      ],
      "text/plain": [
       "                              company                       industry  \\\n",
       "0   Bill and Melinda Gates Foundation                      Nonprofit   \n",
       "1                             Netflix  Technology: Consumer Internet   \n",
       "2                    Automattic, Inc.  Technology: Consumer Internet   \n",
       "3                       Adobe Systems           Technology: Software   \n",
       "4                             Spotify  Technology: Consumer Internet   \n",
       "5                        FireEye Inc.           Technology: Security   \n",
       "6  Orrick, Herrington & Sutcliffe LLP                 Legal services   \n",
       "7                               Avaya  Technology: B2B Tech Services   \n",
       "9                           Microsoft           Technology: Software   \n",
       "8                             Twitter  Technology: Consumer Internet   \n",
       "\n",
       "       paid   unpaid  paid_leave  unpaid_leave industry_parsed  \n",
       "0  52 weeks      N/A          52           NaN       Nonprofit  \n",
       "1  52 weeks  2 weeks          52             2      Technology  \n",
       "2  32 weeks  0 weeks          32             0      Technology  \n",
       "3  26 weeks  6 weeks          26             6      Technology  \n",
       "4  24 weeks      N/A          24           NaN      Technology  \n",
       "5  22 weeks      N/A          22           NaN      Technology  \n",
       "6  22 weeks      N/A          22           NaN  Legal services  \n",
       "7  22 weeks      N/A          22           NaN      Technology  \n",
       "9  20 weeks  0 weeks          20             0      Technology  \n",
       "8  20 weeks      N/A          20           NaN      Technology  "
      ]
     },
     "execution_count": 42,
     "metadata": {},
     "output_type": "execute_result"
    }
   ],
   "source": [
    "df.sort_values(by = 'paid_leave', ascending=False).head(10)"
   ]
  },
  {
   "cell_type": "code",
   "execution_count": 35,
   "metadata": {
    "collapsed": false
   },
   "outputs": [
    {
     "name": "stdout",
     "output_type": "stream",
     "text": [
      "805\n",
      "389\n"
     ]
    }
   ],
   "source": [
    "#save number to pickle file to load into chart\n",
    "import pickle \n",
    "with open('num_of_companies.pkl','w') as pf:\n",
    "    pickle.dump(len(df),pf)\n",
    "    \n",
    "# size of dataset (number of companies)\n",
    "print len(df)\n",
    "print len(df.dropna())"
   ]
  },
  {
   "cell_type": "code",
   "execution_count": 36,
   "metadata": {
    "collapsed": false
   },
   "outputs": [
    {
     "name": "stdout",
     "output_type": "stream",
     "text": [
      "Average paid leave: 8.1 weeks\n",
      "Average unpaid leave 9.3 weeks\n"
     ]
    }
   ],
   "source": [
    "print \"Average paid leave: {0:.1f} weeks\".format(df['paid_leave'].mean())\n",
    "print \"Average unpaid leave {0:.1f} weeks\".format(df['unpaid_leave'].mean())"
   ]
  },
  {
   "cell_type": "code",
   "execution_count": 46,
   "metadata": {
    "collapsed": false
   },
   "outputs": [
    {
     "data": {
      "text/html": [
       "<div>\n",
       "<table border=\"1\" class=\"dataframe\">\n",
       "  <thead>\n",
       "    <tr style=\"text-align: right;\">\n",
       "      <th></th>\n",
       "      <th>company</th>\n",
       "      <th>industry</th>\n",
       "      <th>paid</th>\n",
       "      <th>unpaid</th>\n",
       "      <th>paid_leave</th>\n",
       "      <th>unpaid_leave</th>\n",
       "      <th>industry_parsed</th>\n",
       "    </tr>\n",
       "  </thead>\n",
       "  <tbody>\n",
       "    <tr>\n",
       "      <th>51</th>\n",
       "      <td>ustwo</td>\n",
       "      <td>N/A</td>\n",
       "      <td>16 weeks</td>\n",
       "      <td>N/A</td>\n",
       "      <td>16</td>\n",
       "      <td>NaN</td>\n",
       "      <td>Unspecified</td>\n",
       "    </tr>\n",
       "    <tr>\n",
       "      <th>271</th>\n",
       "      <td>WIL Research</td>\n",
       "      <td>N/A</td>\n",
       "      <td>8 weeks</td>\n",
       "      <td>12 weeks</td>\n",
       "      <td>8</td>\n",
       "      <td>12</td>\n",
       "      <td>Unspecified</td>\n",
       "    </tr>\n",
       "    <tr>\n",
       "      <th>340</th>\n",
       "      <td>Zoetis</td>\n",
       "      <td>N/A</td>\n",
       "      <td>7 weeks</td>\n",
       "      <td>N/A</td>\n",
       "      <td>7</td>\n",
       "      <td>NaN</td>\n",
       "      <td>Unspecified</td>\n",
       "    </tr>\n",
       "    <tr>\n",
       "      <th>366</th>\n",
       "      <td>Sungard Availability Services</td>\n",
       "      <td>N/A</td>\n",
       "      <td>6 weeks</td>\n",
       "      <td>N/A</td>\n",
       "      <td>6</td>\n",
       "      <td>NaN</td>\n",
       "      <td>Unspecified</td>\n",
       "    </tr>\n",
       "    <tr>\n",
       "      <th>376</th>\n",
       "      <td>Yazaki North America</td>\n",
       "      <td>N/A</td>\n",
       "      <td>6 weeks</td>\n",
       "      <td>6 weeks</td>\n",
       "      <td>6</td>\n",
       "      <td>6</td>\n",
       "      <td>Unspecified</td>\n",
       "    </tr>\n",
       "    <tr>\n",
       "      <th>383</th>\n",
       "      <td>dick's sporting goods</td>\n",
       "      <td>N/A</td>\n",
       "      <td>6 weeks</td>\n",
       "      <td>6 weeks</td>\n",
       "      <td>6</td>\n",
       "      <td>6</td>\n",
       "      <td>Unspecified</td>\n",
       "    </tr>\n",
       "    <tr>\n",
       "      <th>395</th>\n",
       "      <td>Smucker's</td>\n",
       "      <td>N/A</td>\n",
       "      <td>6 weeks</td>\n",
       "      <td>6 weeks</td>\n",
       "      <td>6</td>\n",
       "      <td>6</td>\n",
       "      <td>Unspecified</td>\n",
       "    </tr>\n",
       "    <tr>\n",
       "      <th>396</th>\n",
       "      <td>Pew Charitable Trusts</td>\n",
       "      <td>N/A</td>\n",
       "      <td>6 weeks</td>\n",
       "      <td>N/A</td>\n",
       "      <td>6</td>\n",
       "      <td>NaN</td>\n",
       "      <td>Unspecified</td>\n",
       "    </tr>\n",
       "    <tr>\n",
       "      <th>548</th>\n",
       "      <td>United States Army</td>\n",
       "      <td>N/A</td>\n",
       "      <td>6 weeks</td>\n",
       "      <td>N/A</td>\n",
       "      <td>6</td>\n",
       "      <td>NaN</td>\n",
       "      <td>Unspecified</td>\n",
       "    </tr>\n",
       "    <tr>\n",
       "      <th>596</th>\n",
       "      <td>TechTarget</td>\n",
       "      <td>N/A</td>\n",
       "      <td>2 weeks</td>\n",
       "      <td>N/A</td>\n",
       "      <td>2</td>\n",
       "      <td>NaN</td>\n",
       "      <td>Unspecified</td>\n",
       "    </tr>\n",
       "    <tr>\n",
       "      <th>629</th>\n",
       "      <td>The Gettys Group</td>\n",
       "      <td>N/A</td>\n",
       "      <td>0 weeks</td>\n",
       "      <td>6 weeks</td>\n",
       "      <td>0</td>\n",
       "      <td>6</td>\n",
       "      <td>Unspecified</td>\n",
       "    </tr>\n",
       "    <tr>\n",
       "      <th>631</th>\n",
       "      <td>Skyhook Wireless</td>\n",
       "      <td>N/A</td>\n",
       "      <td>0 weeks</td>\n",
       "      <td>N/A</td>\n",
       "      <td>0</td>\n",
       "      <td>NaN</td>\n",
       "      <td>Unspecified</td>\n",
       "    </tr>\n",
       "    <tr>\n",
       "      <th>635</th>\n",
       "      <td>Xanterra Parks and Resorts</td>\n",
       "      <td>N/A</td>\n",
       "      <td>0 weeks</td>\n",
       "      <td>6 weeks</td>\n",
       "      <td>0</td>\n",
       "      <td>6</td>\n",
       "      <td>Unspecified</td>\n",
       "    </tr>\n",
       "    <tr>\n",
       "      <th>645</th>\n",
       "      <td>Parsons Corporation</td>\n",
       "      <td>N/A</td>\n",
       "      <td>0 weeks</td>\n",
       "      <td>12 weeks</td>\n",
       "      <td>0</td>\n",
       "      <td>12</td>\n",
       "      <td>Unspecified</td>\n",
       "    </tr>\n",
       "    <tr>\n",
       "      <th>648</th>\n",
       "      <td>PharMerica Corporation</td>\n",
       "      <td>N/A</td>\n",
       "      <td>0 weeks</td>\n",
       "      <td>N/A</td>\n",
       "      <td>0</td>\n",
       "      <td>NaN</td>\n",
       "      <td>Unspecified</td>\n",
       "    </tr>\n",
       "    <tr>\n",
       "      <th>649</th>\n",
       "      <td>Rush University Medical Center</td>\n",
       "      <td>N/A</td>\n",
       "      <td>0 weeks</td>\n",
       "      <td>12 weeks</td>\n",
       "      <td>0</td>\n",
       "      <td>12</td>\n",
       "      <td>Unspecified</td>\n",
       "    </tr>\n",
       "    <tr>\n",
       "      <th>686</th>\n",
       "      <td>Petsmart</td>\n",
       "      <td>N/A</td>\n",
       "      <td>0 weeks</td>\n",
       "      <td>6 weeks</td>\n",
       "      <td>0</td>\n",
       "      <td>6</td>\n",
       "      <td>Unspecified</td>\n",
       "    </tr>\n",
       "    <tr>\n",
       "      <th>712</th>\n",
       "      <td>Black Twig Communications</td>\n",
       "      <td>N/A</td>\n",
       "      <td>N/A</td>\n",
       "      <td>0 weeks</td>\n",
       "      <td>NaN</td>\n",
       "      <td>0</td>\n",
       "      <td>Unspecified</td>\n",
       "    </tr>\n",
       "    <tr>\n",
       "      <th>715</th>\n",
       "      <td>Texas Children's Hospital</td>\n",
       "      <td>N/A</td>\n",
       "      <td>N/A</td>\n",
       "      <td>12 weeks</td>\n",
       "      <td>NaN</td>\n",
       "      <td>12</td>\n",
       "      <td>Unspecified</td>\n",
       "    </tr>\n",
       "    <tr>\n",
       "      <th>723</th>\n",
       "      <td>Centura health</td>\n",
       "      <td>N/A</td>\n",
       "      <td>N/A</td>\n",
       "      <td>12 weeks</td>\n",
       "      <td>NaN</td>\n",
       "      <td>12</td>\n",
       "      <td>Unspecified</td>\n",
       "    </tr>\n",
       "  </tbody>\n",
       "</table>\n",
       "</div>"
      ],
      "text/plain": [
       "                            company industry      paid    unpaid  paid_leave  \\\n",
       "51                            ustwo      N/A  16 weeks       N/A          16   \n",
       "271                    WIL Research      N/A   8 weeks  12 weeks           8   \n",
       "340                          Zoetis      N/A   7 weeks       N/A           7   \n",
       "366   Sungard Availability Services      N/A   6 weeks       N/A           6   \n",
       "376            Yazaki North America      N/A   6 weeks   6 weeks           6   \n",
       "383           dick's sporting goods      N/A   6 weeks   6 weeks           6   \n",
       "395                       Smucker's      N/A   6 weeks   6 weeks           6   \n",
       "396           Pew Charitable Trusts      N/A   6 weeks       N/A           6   \n",
       "548              United States Army      N/A   6 weeks       N/A           6   \n",
       "596                      TechTarget      N/A   2 weeks       N/A           2   \n",
       "629                The Gettys Group      N/A   0 weeks   6 weeks           0   \n",
       "631                Skyhook Wireless      N/A   0 weeks       N/A           0   \n",
       "635      Xanterra Parks and Resorts      N/A   0 weeks   6 weeks           0   \n",
       "645             Parsons Corporation      N/A   0 weeks  12 weeks           0   \n",
       "648          PharMerica Corporation      N/A   0 weeks       N/A           0   \n",
       "649  Rush University Medical Center      N/A   0 weeks  12 weeks           0   \n",
       "686                        Petsmart      N/A   0 weeks   6 weeks           0   \n",
       "712       Black Twig Communications      N/A       N/A   0 weeks         NaN   \n",
       "715       Texas Children's Hospital      N/A       N/A  12 weeks         NaN   \n",
       "723                  Centura health      N/A       N/A  12 weeks         NaN   \n",
       "\n",
       "     unpaid_leave industry_parsed  \n",
       "51            NaN     Unspecified  \n",
       "271            12     Unspecified  \n",
       "340           NaN     Unspecified  \n",
       "366           NaN     Unspecified  \n",
       "376             6     Unspecified  \n",
       "383             6     Unspecified  \n",
       "395             6     Unspecified  \n",
       "396           NaN     Unspecified  \n",
       "548           NaN     Unspecified  \n",
       "596           NaN     Unspecified  \n",
       "629             6     Unspecified  \n",
       "631           NaN     Unspecified  \n",
       "635             6     Unspecified  \n",
       "645            12     Unspecified  \n",
       "648           NaN     Unspecified  \n",
       "649            12     Unspecified  \n",
       "686             6     Unspecified  \n",
       "712             0     Unspecified  \n",
       "715            12     Unspecified  \n",
       "723            12     Unspecified  "
      ]
     },
     "execution_count": 46,
     "metadata": {},
     "output_type": "execute_result"
    }
   ],
   "source": [
    "#unspecified companies need to separated into corresponding industries\n",
    "df[df['industry_parsed']=='Unspecified']"
   ]
  },
  {
   "cell_type": "markdown",
   "metadata": {},
   "source": [
    "####WRITE TO CSV FILES"
   ]
  },
  {
   "cell_type": "code",
   "execution_count": 37,
   "metadata": {
    "collapsed": false
   },
   "outputs": [],
   "source": [
    "# group by industry\n",
    "\n",
    "gb = df.groupby('industry_parsed')\n",
    "\n",
    "# export average paid/unpaid leave (in weeks) to csv\n",
    "\n",
    "gb['paid_leave','unpaid_leave'].mean().to_csv(\"industry_means.csv\")"
   ]
  },
  {
   "cell_type": "code",
   "execution_count": 39,
   "metadata": {
    "collapsed": false,
    "scrolled": true
   },
   "outputs": [],
   "source": [
    "# include count (number of companies inputted for each industry value)\n",
    "\n",
    "df_temp = gb['paid_leave','unpaid_leave'].agg(['mean', 'count'])\n",
    "\n",
    "# shape it!\n",
    "\n",
    "df_temp = df_temp.stack(1).reset_index()\n",
    "df_temp.columns = ['industry','measure','paid_leave','unpaid_leave']\n",
    "df_temp = df_temp.set_index('industry')\n",
    "\n",
    "df_temp.to_csv(\"industry_means_counts.csv\")"
   ]
  },
  {
   "cell_type": "code",
   "execution_count": 40,
   "metadata": {
    "collapsed": false
   },
   "outputs": [],
   "source": [
    "# reshaping to wide format \n",
    "\n",
    "df_temp_index = df_temp.reset_index()\n",
    "\n",
    "# extend 'measure' column for both paid and unpaid values\n",
    "\n",
    "unpaid = df_temp_index.pivot(index='industry',columns='measure',values='unpaid_leave').reset_index()\n",
    "paid = df_temp_index.pivot(index='industry',columns='measure',values='paid_leave').reset_index()\n",
    "\n",
    "wide = paid.merge(unpaid, on='industry', how = 'outer', suffixes = [\"_paid\",\"_unpaid\"])\n",
    "wide.set_index('industry')\n",
    "wide.to_csv('industries_wide.csv')"
   ]
  },
  {
   "cell_type": "code",
   "execution_count": 41,
   "metadata": {
    "collapsed": false
   },
   "outputs": [],
   "source": [
    "# reshaping it again, experiments!\n",
    "\n",
    "trying = gb['paid_leave','unpaid_leave'].agg(['mean', 'count']).stack().reset_index()\n",
    "\n",
    "trying_again = trying.pivot_table(values=['paid_leave','unpaid_leave'], index='industry_parsed', columns='level_1')\n",
    "trying_again_no_index = trying_again.reset_index()\n",
    "\n",
    "yes=pd.melt(trying_again_no_index, id_vars=['industry_parsed'],value_vars=['paid_leave','unpaid_leave'])\n",
    "yes.columns = ['industry','type_leave','measure','val']\n",
    "\n",
    "yes = yes.pivot_table(index=['industry','type_leave'],values='val', columns = 'measure')\n",
    "yes.reset_index().to_csv(\"industry_melted_v2.csv\")"
   ]
  }
 ],
 "metadata": {
  "kernelspec": {
   "display_name": "Python 2",
   "language": "python",
   "name": "python2"
  },
  "language_info": {
   "codemirror_mode": {
    "name": "ipython",
    "version": 2
   },
   "file_extension": ".py",
   "mimetype": "text/x-python",
   "name": "python",
   "nbconvert_exporter": "python",
   "pygments_lexer": "ipython2",
   "version": "2.7.10"
  }
 },
 "nbformat": 4,
 "nbformat_minor": 0
}
