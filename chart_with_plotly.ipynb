{
 "cells": [
  {
   "cell_type": "code",
   "execution_count": 2582,
   "metadata": {
    "collapsed": true
   },
   "outputs": [],
   "source": [
    "import plotly\n",
    "import pandas as pd\n",
    "import pickle\n",
    "import numpy as np"
   ]
  },
  {
   "cell_type": "code",
   "execution_count": 2583,
   "metadata": {
    "collapsed": false
   },
   "outputs": [
    {
     "data": {
      "text/plain": [
       "'1.9.0'"
      ]
     },
     "execution_count": 2583,
     "metadata": {},
     "output_type": "execute_result"
    }
   ],
   "source": [
    "plotly.__version__"
   ]
  },
  {
   "cell_type": "code",
   "execution_count": 2584,
   "metadata": {
    "collapsed": false
   },
   "outputs": [],
   "source": [
    "from plotly.offline import download_plotlyjs, init_notebook_mode, iplot"
   ]
  },
  {
   "cell_type": "code",
   "execution_count": 2585,
   "metadata": {
    "collapsed": false
   },
   "outputs": [],
   "source": [
    "#read in files\n",
    "df = pd.read_csv(\"industries_wide.csv\")\n",
    "del df['Unnamed: 0']\n",
    "\n",
    "#read in number of companies\n",
    "with open('num_of_companies.pkl','r') as pf:\n",
    "    num_of_companies = pickle.load(pf)\n",
    "    \n",
    "df_counts = pd.read_csv('industry_counts_total.csv', header=0, names=['industry','count'])\n",
    "\n",
    "#merge number of companies by industry into dataframe\n",
    "df = df.merge(df_counts, on='industry', how='outer')"
   ]
  },
  {
   "cell_type": "code",
   "execution_count": 2586,
   "metadata": {
    "collapsed": false
   },
   "outputs": [
    {
     "data": {
      "text/html": [
       "<div>\n",
       "<table border=\"1\" class=\"dataframe\">\n",
       "  <thead>\n",
       "    <tr style=\"text-align: right;\">\n",
       "      <th></th>\n",
       "      <th>industry</th>\n",
       "      <th>count_paid</th>\n",
       "      <th>mean_paid</th>\n",
       "      <th>count_unpaid</th>\n",
       "      <th>mean_unpaid</th>\n",
       "      <th>count</th>\n",
       "      <th>total_weeks</th>\n",
       "    </tr>\n",
       "  </thead>\n",
       "  <tbody>\n",
       "    <tr>\n",
       "      <th>11</th>\n",
       "      <td>Electronics Wholesaler</td>\n",
       "      <td>1</td>\n",
       "      <td>6.000000</td>\n",
       "      <td>0</td>\n",
       "      <td>NaN</td>\n",
       "      <td>1</td>\n",
       "      <td>NaN</td>\n",
       "    </tr>\n",
       "    <tr>\n",
       "      <th>22</th>\n",
       "      <td>Maritime</td>\n",
       "      <td>0</td>\n",
       "      <td>NaN</td>\n",
       "      <td>1</td>\n",
       "      <td>12.000</td>\n",
       "      <td>1</td>\n",
       "      <td>NaN</td>\n",
       "    </tr>\n",
       "    <tr>\n",
       "      <th>29</th>\n",
       "      <td>Public Relations</td>\n",
       "      <td>2</td>\n",
       "      <td>3.500000</td>\n",
       "      <td>0</td>\n",
       "      <td>NaN</td>\n",
       "      <td>2</td>\n",
       "      <td>NaN</td>\n",
       "    </tr>\n",
       "    <tr>\n",
       "      <th>3</th>\n",
       "      <td>Auto dealers</td>\n",
       "      <td>2</td>\n",
       "      <td>8.000000</td>\n",
       "      <td>2</td>\n",
       "      <td>3.500</td>\n",
       "      <td>2</td>\n",
       "      <td>11.500000</td>\n",
       "    </tr>\n",
       "    <tr>\n",
       "      <th>1</th>\n",
       "      <td>Advertising</td>\n",
       "      <td>15</td>\n",
       "      <td>7.133333</td>\n",
       "      <td>8</td>\n",
       "      <td>4.375</td>\n",
       "      <td>15</td>\n",
       "      <td>11.508333</td>\n",
       "    </tr>\n",
       "  </tbody>\n",
       "</table>\n",
       "</div>"
      ],
      "text/plain": [
       "                  industry  count_paid  mean_paid  count_unpaid  mean_unpaid  \\\n",
       "11  Electronics Wholesaler           1   6.000000             0          NaN   \n",
       "22                Maritime           0        NaN             1       12.000   \n",
       "29        Public Relations           2   3.500000             0          NaN   \n",
       "3             Auto dealers           2   8.000000             2        3.500   \n",
       "1              Advertising          15   7.133333             8        4.375   \n",
       "\n",
       "    count  total_weeks  \n",
       "11      1          NaN  \n",
       "22      1          NaN  \n",
       "29      2          NaN  \n",
       "3       2    11.500000  \n",
       "1      15    11.508333  "
      ]
     },
     "execution_count": 2586,
     "metadata": {},
     "output_type": "execute_result"
    }
   ],
   "source": [
    "df['total_weeks'] = df['mean_paid'] + df['mean_unpaid'] #create total leave (in weeks) field\n",
    "df.sort_values(by='total_weeks',inplace=True, na_position='first') #sort by total leave\n",
    "\n",
    "df.head()"
   ]
  },
  {
   "cell_type": "code",
   "execution_count": 2587,
   "metadata": {
    "collapsed": true
   },
   "outputs": [],
   "source": [
    "#Define function to manipulate count lists\n",
    "def clean_counts(ct):\n",
    "    if np.isnan(ct):\n",
    "        return str(0)\n",
    "    return str(ct)\n",
    "\n",
    "#Load paid and unpaid lists\n",
    "paid = [round(x,1) for x in df['mean_paid'].tolist()]\n",
    "unpaid = [round(x,1) for x in df['mean_unpaid'].tolist()]\n",
    "paid_counts = [clean_counts(elem) for elem in df['count_paid'].tolist()]\n",
    "unpaid_counts = [clean_counts(elem) for elem in df['count_unpaid'].tolist()]\n",
    "\n",
    "#Define industries\n",
    "industries = df['industry'].tolist()"
   ]
  },
  {
   "cell_type": "code",
   "execution_count": 2588,
   "metadata": {
    "collapsed": true
   },
   "outputs": [],
   "source": [
    "#Define types of leave\n",
    "leave = ['Paid','Unpaid']\n",
    "\n",
    "# Define colors for each type of leave\n",
    "colors = ['#42A5B3','#D15A86']\n",
    "\n",
    "# Define a trace-generating function (returns a Bar object)\n",
    "def make_trace(x, count, color, name):\n",
    "    return Bar(\n",
    "        y=industries,   # industries on the y-axis\n",
    "        x=x,        # leave total on x-axis\n",
    "        name=name,  # label for hover \n",
    "        #text=count,\n",
    "        orientation='h',   # (!) for horizontal bars, default is 'v'\n",
    "        marker= Marker(\n",
    "            color=color,        # set bar colors\n",
    "            line= Line(\n",
    "                color='grey',  # set bar border color\n",
    "                width=.2         # set bar border width\n",
    "            )\n",
    "        )\n",
    "    )\n",
    "\n",
    "# Define annotation-generating function for data source\n",
    "def make_anno1(text, fontsize, x, y):\n",
    "    return Annotation(\n",
    "        text=text,   # annotation text\n",
    "        xref='paper',  # use paper coordinates\n",
    "        yref='paper',  #   for both x and y coords\n",
    "        x=x,           # x and y position \n",
    "        y=y,           #   in norm. coord. \n",
    "        font=Font(size=fontsize),  # text font size\n",
    "        showarrow=False,       # no arrow (default is True)\n",
    "        bgcolor='#F5F3F2',     # light grey background color\n",
    "        bordercolor='#808080', # white borders\n",
    "        borderwidth=1.5,         # border width\n",
    "        borderpad=fontsize     # set border/text space to 1 fontsize\n",
    "    )\n",
    "\n",
    "# Define annotation-generating function for count labels\n",
    "def make_anno2(x, y, text):\n",
    "    return Annotation(\n",
    "        text=\"({0})\".format(text),     # text\n",
    "        showarrow=False, # annotation w/o arrows, default is True\n",
    "        x=x,               # set x position\n",
    "        xref='x',          # position text horizontally with x-coords\n",
    "        xanchor='center',  # x position corresp. to center of text\n",
    "        yref='y',            # set y position \n",
    "        yanchor='top',       # position text vertically with y-coords\n",
    "        y=y,                 # y position corresp. to top of text\n",
    "        font=Font(\n",
    "            color='#262626',  # set font color\n",
    "            size=12           #   and size   \n",
    "        )\n",
    "    )"
   ]
  },
  {
   "cell_type": "code",
   "execution_count": 2589,
   "metadata": {
    "collapsed": false
   },
   "outputs": [],
   "source": [
    "data = [make_trace(paid, paid_counts, colors[0], leave[0]),\n",
    "            make_trace(unpaid, unpaid_counts, colors[1], leave[1])]"
   ]
  },
  {
   "cell_type": "code",
   "execution_count": 2590,
   "metadata": {
    "collapsed": false
   },
   "outputs": [],
   "source": [
    "#Define title\n",
    "title = \"<b>Maternity Leave by Industry</b><br> \\\n",
    "Average Min. Paid and Unpaid Weeks from {0} Companies\".format(num_of_companies)\n",
    "\n",
    "bargap = 0.3\n",
    "\n",
    "# Make Layout object\n",
    "layout = Layout(\n",
    "    barmode='stack',  # (!) bars are stacked on this plot\n",
    "    bargap=bargap,       # (!) spacing (norm. w.r.t axis) between bars\n",
    "    title=title, # set plot title\n",
    "    titlefont = dict(size=25),\n",
    "    showlegend=True,   # keep legend\n",
    "    xaxis= XAxis(\n",
    "        title='Weeks of Maternity Leave', # x-axis title \n",
    "        #gridcolor=None,  # no grid lines\n",
    "        showgrid=True,\n",
    "        gridwidth=2,        # bigger grid lines\n",
    "        zeroline=False,     # remove thick zero line\n",
    "        ticks='outside',    # draw ticks outside axes\n",
    "        autotick=False,     # (!) overwrite default tick options\n",
    "        tick0=10,       # set first tick\n",
    "        dtick=10,          # (!) set distance between ticks  \n",
    "        ticklen=8,          # (!) set tick length\n",
    "        tickwidth=1       #     and width\n",
    "    ),\n",
    "    autosize=False,   # (!) turn off autosize \n",
    "    height=900,       # plot's height and\n",
    "    width=750,        #   width in pixels, as recommended by Sunlight Found.\n",
    "    margin=Margin( # set frame to plotting area margins\n",
    "        t=140,     #   top,\n",
    "        b=125,     #   bottom,\n",
    "        r=25,      #   right,\n",
    "        l=200       #   left\n",
    "    ),\n",
    "    paper_bgcolor='rgb(233,233,233)',  # set paper (outside plot) \n",
    "    plot_bgcolor='rgb(233,233,233)',   #   and plot color to grey\n",
    ")   \n",
    "        \n",
    "# update annotations\n",
    "annotations = Annotations([\n",
    "    make_anno1('<b>Source:</b> Fairygodboss.com<br>(Number of companies submitted in parenthesis)', 11, -.35, -0.18)]\n",
    " + [make_anno2(x+1.56, .6+i, ct) for x,i,ct in zip(df['total_weeks'],range(len(df)),df['count'])])"
   ]
  },
  {
   "cell_type": "code",
   "execution_count": 2591,
   "metadata": {
    "collapsed": true
   },
   "outputs": [],
   "source": [
    "# Make Figure object, \n",
    "fig = Figure(data=data, layout=layout)"
   ]
  },
  {
   "cell_type": "code",
   "execution_count": 2592,
   "metadata": {
    "collapsed": false
   },
   "outputs": [],
   "source": [
    "# Update figure object with font and annotations\n",
    "fig['layout'].update(\n",
    "    font=Font(\n",
    "        family=\"Droid Serif, serif\",\n",
    "        color='#635F5D'\n",
    "    ),\n",
    "    annotations=annotations\n",
    ")"
   ]
  },
  {
   "cell_type": "code",
   "execution_count": 2593,
   "metadata": {
    "collapsed": false
   },
   "outputs": [
    {
     "data": {
      "text/html": [
       "<script type=\"text/javascript\">window.PLOTLYENV=window.PLOTLYENV || {};window.PLOTLYENV.BASE_URL=\"https://plot.ly\";</script>"
      ],
      "text/plain": [
       "<IPython.core.display.HTML object>"
      ]
     },
     "metadata": {},
     "output_type": "display_data"
    },
    {
     "data": {
      "text/html": [
       "<div class=\"4fff791a-b23d-4d80-86bb-cec43a0d86b4 loading\" style=\"color: rgb(50,50,50);\">Drawing...</div><div id=\"4fff791a-b23d-4d80-86bb-cec43a0d86b4\" style=\"height: 900; width: 750px;\" class=\"plotly-graph-div\"></div><script type=\"text/javascript\">Plotly.plot(\"4fff791a-b23d-4d80-86bb-cec43a0d86b4\", [{\"orientation\": \"h\", \"marker\": {\"color\": \"#42A5B3\", \"line\": {\"color\": \"grey\", \"width\": 0.2}}, \"y\": [\"Electronics Wholesaler\", \"Maritime\", \"Public Relations\", \"Auto dealers\", \"Advertising\", \"Real Estate Investment Trust\", \"Packaging\", \"Research & Development\", \"Fine Art Auctions\", \"Real Estate Company\", \"Unspecified\", \"Conglomerate\", \"Educational Services\", \"Healthcare\", \"Hospitality\", \"Retail\", \"Business Services\", \"Aerospace\", \"Services\", \"Telecommunications\", \"Insurance\", \"Publishing\", \"Transportation\", \"Pharmacies and Drug Stores\", \"Diversified industrials\", \"Government\", \"Industrial\", \"FMCG\", \"Media\", \"Natural Resources\", \"Technology\", \"Pharmaceutical\", \"Nonprofit\", \"Accounting services\", \"Finance\", \"Auto manufacturers\", \"Information Services\", \"Consulting services\", \"Legal services\", \"Electronics Manufacturing\"], \"x\": [6.0, null, 3.5, 8.0, 7.1, 9.0, 12.0, 6.0, 12.0, 1.8, 4.1, 7.8, 4.3, 5.1, 3.2, 5.5, 4.7, 4.7, 2.8, 6.6, 6.4, 9.7, 6.0, 6.0, 4.0, 3.7, 6.9, 8.5, 8.4, 7.1, 10.2, 7.5, 7.2, 10.0, 9.8, 6.6, 9.2, 10.6, 15.4, 0.0], \"type\": \"bar\", \"name\": \"Paid\"}, {\"orientation\": \"h\", \"marker\": {\"color\": \"#D15A86\", \"line\": {\"color\": \"grey\", \"width\": 0.2}}, \"y\": [\"Electronics Wholesaler\", \"Maritime\", \"Public Relations\", \"Auto dealers\", \"Advertising\", \"Real Estate Investment Trust\", \"Packaging\", \"Research & Development\", \"Fine Art Auctions\", \"Real Estate Company\", \"Unspecified\", \"Conglomerate\", \"Educational Services\", \"Healthcare\", \"Hospitality\", \"Retail\", \"Business Services\", \"Aerospace\", \"Services\", \"Telecommunications\", \"Insurance\", \"Publishing\", \"Transportation\", \"Pharmacies and Drug Stores\", \"Diversified industrials\", \"Government\", \"Industrial\", \"FMCG\", \"Media\", \"Natural Resources\", \"Technology\", \"Pharmaceutical\", \"Nonprofit\", \"Accounting services\", \"Finance\", \"Auto manufacturers\", \"Information Services\", \"Consulting services\", \"Legal services\", \"Electronics Manufacturing\"], \"x\": [null, 12.0, null, 3.5, 4.4, 3.0, 0.0, 6.0, 0.0, 10.3, 8.0, 5.5, 9.2, 8.9, 10.8, 8.6, 9.5, 9.6, 12.0, 8.1, 8.7, 5.7, 9.8, 10.0, 12.0, 12.4, 9.2, 9.1, 9.2, 10.8, 7.7, 10.8, 11.3, 8.5, 9.7, 13.8, 11.3, 10.7, 6.8, 25.3], \"type\": \"bar\", \"name\": \"Unpaid\"}], {\"autosize\": false, \"title\": \"<b>Maternity Leave by Industry</b><br> Average Min. Paid and Unpaid Weeks from 805 Companies\", \"paper_bgcolor\": \"rgb(233,233,233)\", \"plot_bgcolor\": \"rgb(233,233,233)\", \"showlegend\": true, \"height\": 900, \"width\": 750, \"bargap\": 0.3, \"titlefont\": {\"size\": 25}, \"xaxis\": {\"ticks\": \"outside\", \"tickwidth\": 1, \"title\": \"Weeks of Maternity Leave\", \"tick0\": 10, \"ticklen\": 8, \"gridwidth\": 2, \"dtick\": 10, \"showgrid\": true, \"zeroline\": false, \"autotick\": false}, \"barmode\": \"stack\", \"font\": {\"color\": \"#635F5D\", \"family\": \"Droid Serif, serif\"}, \"margin\": {\"r\": 25, \"b\": 125, \"l\": 200, \"t\": 140}, \"annotations\": [{\"bordercolor\": \"#808080\", \"xref\": \"paper\", \"yref\": \"paper\", \"text\": \"<b>Source:</b> Fairygodboss.com<br>(Number of companies submitted in parenthesis)\", \"bgcolor\": \"#F5F3F2\", \"borderwidth\": 1.5, \"y\": -0.18, \"x\": -0.35, \"font\": {\"size\": 11}, \"borderpad\": 11, \"showarrow\": false}, {\"yanchor\": \"top\", \"xref\": \"x\", \"xanchor\": \"center\", \"yref\": \"y\", \"text\": \"(1)\", \"y\": 0.6, \"x\": null, \"font\": {\"color\": \"#262626\", \"size\": 12}, \"showarrow\": false}, {\"yanchor\": \"top\", \"xref\": \"x\", \"xanchor\": \"center\", \"yref\": \"y\", \"text\": \"(1)\", \"y\": 1.6, \"x\": null, \"font\": {\"color\": \"#262626\", \"size\": 12}, \"showarrow\": false}, {\"yanchor\": \"top\", \"xref\": \"x\", \"xanchor\": \"center\", \"yref\": \"y\", \"text\": \"(2)\", \"y\": 2.6, \"x\": null, \"font\": {\"color\": \"#262626\", \"size\": 12}, \"showarrow\": false}, {\"yanchor\": \"top\", \"xref\": \"x\", \"xanchor\": \"center\", \"yref\": \"y\", \"text\": \"(2)\", \"y\": 3.6, \"x\": 13.06, \"font\": {\"color\": \"#262626\", \"size\": 12}, \"showarrow\": false}, {\"yanchor\": \"top\", \"xref\": \"x\", \"xanchor\": \"center\", \"yref\": \"y\", \"text\": \"(15)\", \"y\": 4.6, \"x\": 13.068333333330001, \"font\": {\"color\": \"#262626\", \"size\": 12}, \"showarrow\": false}, {\"yanchor\": \"top\", \"xref\": \"x\", \"xanchor\": \"center\", \"yref\": \"y\", \"text\": \"(2)\", \"y\": 5.6, \"x\": 13.56, \"font\": {\"color\": \"#262626\", \"size\": 12}, \"showarrow\": false}, {\"yanchor\": \"top\", \"xref\": \"x\", \"xanchor\": \"center\", \"yref\": \"y\", \"text\": \"(1)\", \"y\": 6.6, \"x\": 13.56, \"font\": {\"color\": \"#262626\", \"size\": 12}, \"showarrow\": false}, {\"yanchor\": \"top\", \"xref\": \"x\", \"xanchor\": \"center\", \"yref\": \"y\", \"text\": \"(1)\", \"y\": 7.6, \"x\": 13.56, \"font\": {\"color\": \"#262626\", \"size\": 12}, \"showarrow\": false}, {\"yanchor\": \"top\", \"xref\": \"x\", \"xanchor\": \"center\", \"yref\": \"y\", \"text\": \"(1)\", \"y\": 8.6, \"x\": 13.56, \"font\": {\"color\": \"#262626\", \"size\": 12}, \"showarrow\": false}, {\"yanchor\": \"top\", \"xref\": \"x\", \"xanchor\": \"center\", \"yref\": \"y\", \"text\": \"(5)\", \"y\": 9.6, \"x\": 13.610000000000001, \"font\": {\"color\": \"#262626\", \"size\": 12}, \"showarrow\": false}, {\"yanchor\": \"top\", \"xref\": \"x\", \"xanchor\": \"center\", \"yref\": \"y\", \"text\": \"(20)\", \"y\": 10.6, \"x\": 13.61882352941, \"font\": {\"color\": \"#262626\", \"size\": 12}, \"showarrow\": false}, {\"yanchor\": \"top\", \"xref\": \"x\", \"xanchor\": \"center\", \"yref\": \"y\", \"text\": \"(4)\", \"y\": 11.6, \"x\": 14.81, \"font\": {\"color\": \"#262626\", \"size\": 12}, \"showarrow\": false}, {\"yanchor\": \"top\", \"xref\": \"x\", \"xanchor\": \"center\", \"yref\": \"y\", \"text\": \"(49)\", \"y\": 12.6, \"x\": 15.11396541443, \"font\": {\"color\": \"#262626\", \"size\": 12}, \"showarrow\": false}, {\"yanchor\": \"top\", \"xref\": \"x\", \"xanchor\": \"center\", \"yref\": \"y\", \"text\": \"(42)\", \"y\": 13.6, \"x\": 15.533949579830002, \"font\": {\"color\": \"#262626\", \"size\": 12}, \"showarrow\": false}, {\"yanchor\": \"top\", \"xref\": \"x\", \"xanchor\": \"center\", \"yref\": \"y\", \"text\": \"(19)\", \"y\": 14.6, \"x\": 15.636923076969998, \"font\": {\"color\": \"#262626\", \"size\": 12}, \"showarrow\": false}, {\"yanchor\": \"top\", \"xref\": \"x\", \"xanchor\": \"center\", \"yref\": \"y\", \"text\": \"(58)\", \"y\": 15.6, \"x\": 15.6906122449, \"font\": {\"color\": \"#262626\", \"size\": 12}, \"showarrow\": false}, {\"yanchor\": \"top\", \"xref\": \"x\", \"xanchor\": \"center\", \"yref\": \"y\", \"text\": \"(17)\", \"y\": 16.6, \"x\": 15.713846153850001, \"font\": {\"color\": \"#262626\", \"size\": 12}, \"showarrow\": false}, {\"yanchor\": \"top\", \"xref\": \"x\", \"xanchor\": \"center\", \"yref\": \"y\", \"text\": \"(8)\", \"y\": 17.6, \"x\": 15.87428571429, \"font\": {\"color\": \"#262626\", \"size\": 12}, \"showarrow\": false}, {\"yanchor\": \"top\", \"xref\": \"x\", \"xanchor\": \"center\", \"yref\": \"y\", \"text\": \"(7)\", \"y\": 18.6, \"x\": 16.31, \"font\": {\"color\": \"#262626\", \"size\": 12}, \"showarrow\": false}, {\"yanchor\": \"top\", \"xref\": \"x\", \"xanchor\": \"center\", \"yref\": \"y\", \"text\": \"(12)\", \"y\": 19.6, \"x\": 16.33922077922, \"font\": {\"color\": \"#262626\", \"size\": 12}, \"showarrow\": false}, {\"yanchor\": \"top\", \"xref\": \"x\", \"xanchor\": \"center\", \"yref\": \"y\", \"text\": \"(32)\", \"y\": 20.6, \"x\": 16.63285714286, \"font\": {\"color\": \"#262626\", \"size\": 12}, \"showarrow\": false}, {\"yanchor\": \"top\", \"xref\": \"x\", \"xanchor\": \"center\", \"yref\": \"y\", \"text\": \"(4)\", \"y\": 21.6, \"x\": 16.893333333339996, \"font\": {\"color\": \"#262626\", \"size\": 12}, \"showarrow\": false}, {\"yanchor\": \"top\", \"xref\": \"x\", \"xanchor\": \"center\", \"yref\": \"y\", \"text\": \"(16)\", \"y\": 22.6, \"x\": 17.40615384615, \"font\": {\"color\": \"#262626\", \"size\": 12}, \"showarrow\": false}, {\"yanchor\": \"top\", \"xref\": \"x\", \"xanchor\": \"center\", \"yref\": \"y\", \"text\": \"(4)\", \"y\": 23.6, \"x\": 17.56, \"font\": {\"color\": \"#262626\", \"size\": 12}, \"showarrow\": false}, {\"yanchor\": \"top\", \"xref\": \"x\", \"xanchor\": \"center\", \"yref\": \"y\", \"text\": \"(3)\", \"y\": 24.6, \"x\": 17.56, \"font\": {\"color\": \"#262626\", \"size\": 12}, \"showarrow\": false}, {\"yanchor\": \"top\", \"xref\": \"x\", \"xanchor\": \"center\", \"yref\": \"y\", \"text\": \"(16)\", \"y\": 25.6, \"x\": 17.590303030269997, \"font\": {\"color\": \"#262626\", \"size\": 12}, \"showarrow\": false}, {\"yanchor\": \"top\", \"xref\": \"x\", \"xanchor\": \"center\", \"yref\": \"y\", \"text\": \"(19)\", \"y\": 26.6, \"x\": 17.701176470589996, \"font\": {\"color\": \"#262626\", \"size\": 12}, \"showarrow\": false}, {\"yanchor\": \"top\", \"xref\": \"x\", \"xanchor\": \"center\", \"yref\": \"y\", \"text\": \"(32)\", \"y\": 27.6, \"x\": 19.07411290323, \"font\": {\"color\": \"#262626\", \"size\": 12}, \"showarrow\": false}, {\"yanchor\": \"top\", \"xref\": \"x\", \"xanchor\": \"center\", \"yref\": \"y\", \"text\": \"(28)\", \"y\": 28.6, \"x\": 19.15076923077, \"font\": {\"color\": \"#262626\", \"size\": 12}, \"showarrow\": false}, {\"yanchor\": \"top\", \"xref\": \"x\", \"xanchor\": \"center\", \"yref\": \"y\", \"text\": \"(35)\", \"y\": 29.6, \"x\": 19.45814814815, \"font\": {\"color\": \"#262626\", \"size\": 12}, \"showarrow\": false}, {\"yanchor\": \"top\", \"xref\": \"x\", \"xanchor\": \"center\", \"yref\": \"y\", \"text\": \"(120)\", \"y\": 30.6, \"x\": 19.45855072463, \"font\": {\"color\": \"#262626\", \"size\": 12}, \"showarrow\": false}, {\"yanchor\": \"top\", \"xref\": \"x\", \"xanchor\": \"center\", \"yref\": \"y\", \"text\": \"(21)\", \"y\": 31.6, \"x\": 19.91, \"font\": {\"color\": \"#262626\", \"size\": 12}, \"showarrow\": false}, {\"yanchor\": \"top\", \"xref\": \"x\", \"xanchor\": \"center\", \"yref\": \"y\", \"text\": \"(25)\", \"y\": 32.6, \"x\": 20.01833333333, \"font\": {\"color\": \"#262626\", \"size\": 12}, \"showarrow\": false}, {\"yanchor\": \"top\", \"xref\": \"x\", \"xanchor\": \"center\", \"yref\": \"y\", \"text\": \"(5)\", \"y\": 33.6, \"x\": 20.06, \"font\": {\"color\": \"#262626\", \"size\": 12}, \"showarrow\": false}, {\"yanchor\": \"top\", \"xref\": \"x\", \"xanchor\": \"center\", \"yref\": \"y\", \"text\": \"(61)\", \"y\": 34.6, \"x\": 21.07785714286, \"font\": {\"color\": \"#262626\", \"size\": 12}, \"showarrow\": false}, {\"yanchor\": \"top\", \"xref\": \"x\", \"xanchor\": \"center\", \"yref\": \"y\", \"text\": \"(9)\", \"y\": 35.6, \"x\": 21.91, \"font\": {\"color\": \"#262626\", \"size\": 12}, \"showarrow\": false}, {\"yanchor\": \"top\", \"xref\": \"x\", \"xanchor\": \"center\", \"yref\": \"y\", \"text\": \"(14)\", \"y\": 36.6, \"x\": 22.047179487149997, \"font\": {\"color\": \"#262626\", \"size\": 12}, \"showarrow\": false}, {\"yanchor\": \"top\", \"xref\": \"x\", \"xanchor\": \"center\", \"yref\": \"y\", \"text\": \"(23)\", \"y\": 37.6, \"x\": 22.8432167832, \"font\": {\"color\": \"#262626\", \"size\": 12}, \"showarrow\": false}, {\"yanchor\": \"top\", \"xref\": \"x\", \"xanchor\": \"center\", \"yref\": \"y\", \"text\": \"(68)\", \"y\": 38.6, \"x\": 23.7276470588, \"font\": {\"color\": \"#262626\", \"size\": 12}, \"showarrow\": false}, {\"yanchor\": \"top\", \"xref\": \"x\", \"xanchor\": \"center\", \"yref\": \"y\", \"text\": \"(3)\", \"y\": 39.6, \"x\": 26.8933333333, \"font\": {\"color\": \"#262626\", \"size\": 12}, \"showarrow\": false}]}, {\"linkText\": \"Export to plot.ly\", \"showLink\": true}).then(function() {\n",
       "    $(\".4fff791a-b23d-4d80-86bb-cec43a0d86b4.loading\").remove();\n",
       "})</script>"
      ],
      "text/plain": [
       "<IPython.core.display.HTML object>"
      ]
     },
     "metadata": {},
     "output_type": "display_data"
    }
   ],
   "source": [
    "iplot(fig)"
   ]
  }
 ],
 "metadata": {
  "kernelspec": {
   "display_name": "Python 2",
   "language": "python",
   "name": "python2"
  },
  "language_info": {
   "codemirror_mode": {
    "name": "ipython",
    "version": 2
   },
   "file_extension": ".py",
   "mimetype": "text/x-python",
   "name": "python",
   "nbconvert_exporter": "python",
   "pygments_lexer": "ipython2",
   "version": "2.7.10"
  }
 },
 "nbformat": 4,
 "nbformat_minor": 0
}
